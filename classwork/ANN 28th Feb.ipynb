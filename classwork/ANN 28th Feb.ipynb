{
  "nbformat": 4,
  "nbformat_minor": 0,
  "metadata": {
    "colab": {
      "name": "ANN 28th Feb.ipynb",
      "provenance": [],
      "collapsed_sections": [],
      "authorship_tag": "ABX9TyMXA3EfciT5mswMDVd1zKeA",
      "include_colab_link": true
    },
    "kernelspec": {
      "name": "python3",
      "display_name": "Python 3"
    }
  },
  "cells": [
    {
      "cell_type": "markdown",
      "metadata": {
        "id": "view-in-github",
        "colab_type": "text"
      },
      "source": [
        "<a href=\"https://colab.research.google.com/github/sidh26/ANN/blob/main/classwork/ANN%2028th%20Feb.ipynb\" target=\"_parent\"><img src=\"https://colab.research.google.com/assets/colab-badge.svg\" alt=\"Open In Colab\"/></a>"
      ]
    },
    {
      "cell_type": "markdown",
      "metadata": {
        "id": "S4_Bnl0yz5to"
      },
      "source": [
        "# Systematic way of creating NN in pytorch"
      ]
    },
    {
      "cell_type": "code",
      "metadata": {
        "id": "UXuBWNLSxOPF"
      },
      "source": [
        "import torch\r\n",
        "import torch.nn as nn"
      ],
      "execution_count": null,
      "outputs": []
    },
    {
      "cell_type": "code",
      "metadata": {
        "id": "ju7COaXry3hS"
      },
      "source": [
        "class NNet(nn.Module):\r\n",
        "    def __init__(self):\r\n",
        "        super(NNet, self).__init__()\r\n",
        "\r\n",
        "        self.layer1 = nn.Linear(10,5)\r\n",
        "        self.layer2 = nn.Linear(5,1)\r\n",
        "\r\n",
        "    def forward(self, x):\r\n",
        "        output = self.layer1(x)\r\n",
        "        output = self.layer2(output)\r\n",
        "\r\n",
        "        return output"
      ],
      "execution_count": null,
      "outputs": []
    },
    {
      "cell_type": "code",
      "metadata": {
        "colab": {
          "base_uri": "https://localhost:8080/"
        },
        "id": "L69iBcJrzZuE",
        "outputId": "817ca1bb-aa92-4367-d631-b3836fa69713"
      },
      "source": [
        "inp = torch.rand(1, 10)\r\n",
        "\r\n",
        "net1 = NNet()\r\n",
        "output = net1(inp)\r\n",
        "print(output)"
      ],
      "execution_count": null,
      "outputs": [
        {
          "output_type": "stream",
          "text": [
            "tensor([[0.6070]], grad_fn=<AddmmBackward>)\n"
          ],
          "name": "stdout"
        }
      ]
    },
    {
      "cell_type": "markdown",
      "metadata": {
        "id": "1gPd2S26z1YG"
      },
      "source": [
        "# Random Stock Market Data"
      ]
    },
    {
      "cell_type": "code",
      "metadata": {
        "id": "GafS_yH9gZOh"
      },
      "source": [
        "import numpy as np"
      ],
      "execution_count": null,
      "outputs": []
    },
    {
      "cell_type": "code",
      "metadata": {
        "id": "m42GjID4zfOF"
      },
      "source": [
        "X = np.array([np.random.random() for i in range(10000)])"
      ],
      "execution_count": null,
      "outputs": []
    },
    {
      "cell_type": "code",
      "metadata": {
        "id": "nSmNDBTcW8fa"
      },
      "source": [
        "def convert2matrix(data_arr, look_back):\r\n",
        "    X, Y = [], []\r\n",
        "    for i in range(len(data_arr)-look_back):\r\n",
        "        d = i+look_back\r\n",
        "        X.append(data_arr[i:d])\r\n",
        "        Y.append(data_arr[d])\r\n",
        "    \r\n",
        "    return np.array(X), np.array(Y)"
      ],
      "execution_count": null,
      "outputs": []
    },
    {
      "cell_type": "code",
      "metadata": {
        "colab": {
          "base_uri": "https://localhost:8080/"
        },
        "id": "02XMdlnXYh6o",
        "outputId": "7e1fab8c-8073-4120-aa38-910e32bd5d0b"
      },
      "source": [
        "X, y = convert2matrix(X, 5)"
      ],
      "execution_count": null,
      "outputs": [
        {
          "output_type": "execute_result",
          "data": {
            "text/plain": [
              "((9995, 5), (9995,))"
            ]
          },
          "metadata": {
            "tags": []
          },
          "execution_count": 38
        }
      ]
    },
    {
      "cell_type": "code",
      "metadata": {
        "colab": {
          "base_uri": "https://localhost:8080/"
        },
        "id": "OqAw4vP5c28k",
        "outputId": "0d51c385-7053-4dd2-dbac-22504cc404b4"
      },
      "source": [
        "X.shape, y.shape"
      ],
      "execution_count": null,
      "outputs": [
        {
          "output_type": "execute_result",
          "data": {
            "text/plain": [
              "((9995, 5), (9995,))"
            ]
          },
          "metadata": {
            "tags": []
          },
          "execution_count": 42
        }
      ]
    },
    {
      "cell_type": "code",
      "metadata": {
        "id": "YzH7_OWSYn7t"
      },
      "source": [
        "class NNet5(nn.Module):\r\n",
        "    def __init__(self):\r\n",
        "        super(NNet5, self).__init__()\r\n",
        "\r\n",
        "        self.layer1 = nn.Linear(5, 2)\r\n",
        "        self.act1 = nn.Sigmoid()\r\n",
        "        self.layer2 = nn.Linear(2, 1)\r\n",
        "        self.act2 = nn.Sigmoid()\r\n",
        "\r\n",
        "    def forward(self, x):\r\n",
        "        output = self.layer1(x)\r\n",
        "        output = self.act1(output)\r\n",
        "        output = self.layer2(output)\r\n",
        "        output = self.act2(output)\r\n",
        "\r\n",
        "        return output"
      ],
      "execution_count": null,
      "outputs": []
    },
    {
      "cell_type": "code",
      "metadata": {
        "id": "JHaeDRBuZRQp"
      },
      "source": [
        "model5 = NNet5()\r\n",
        "# output = model(torch.from_numpy(X).float())\r\n",
        "# output.shape, output"
      ],
      "execution_count": null,
      "outputs": []
    },
    {
      "cell_type": "code",
      "metadata": {
        "colab": {
          "base_uri": "https://localhost:8080/"
        },
        "id": "MF2F8M7pZZqy",
        "outputId": "f360e20d-3665-4840-877f-494837f89d39"
      },
      "source": [
        "num_epochs = 50\r\n",
        "learning_rate = 0.01\r\n",
        "\r\n",
        "criterion = nn.MSELoss()   \r\n",
        "optimizer = torch.optim.SGD(model5.parameters(), lr=learning_rate)\r\n",
        "\r\n",
        "for epoch in range(num_epochs):\r\n",
        "    pred = model5(torch.from_numpy(X).float())\r\n",
        "    loss = criterion(pred, torch.from_numpy(y).float())\r\n",
        "    optimizer.zero_grad()\r\n",
        "    loss.backward()\r\n",
        "\r\n",
        "    with torch.no_grad():\r\n",
        "        optimizer.step()\r\n",
        "    \r\n",
        "\r\n",
        "    if (epoch + 1) %5 == 0:\r\n",
        "        print('Epoch [{}/{}], Step [{}/{}], Loss {:.4f}'.format(epoch+1, num_epochs, epoch+1, num_epochs, loss.item()))\r\n"
      ],
      "execution_count": null,
      "outputs": [
        {
          "output_type": "stream",
          "text": [
            "/usr/local/lib/python3.7/dist-packages/torch/nn/modules/loss.py:446: UserWarning: Using a target size (torch.Size([9995])) that is different to the input size (torch.Size([9995, 1])). This will likely lead to incorrect results due to broadcasting. Please ensure they have the same size.\n",
            "  return F.mse_loss(input, target, reduction=self.reduction)\n"
          ],
          "name": "stderr"
        },
        {
          "output_type": "stream",
          "text": [
            "Epoch [5/50], Step [5/50], Loss 0.1221\n",
            "Epoch [10/50], Step [10/50], Loss 0.1215\n",
            "Epoch [15/50], Step [15/50], Loss 0.1209\n",
            "Epoch [20/50], Step [20/50], Loss 0.1204\n",
            "Epoch [25/50], Step [25/50], Loss 0.1198\n",
            "Epoch [30/50], Step [30/50], Loss 0.1193\n",
            "Epoch [35/50], Step [35/50], Loss 0.1187\n",
            "Epoch [40/50], Step [40/50], Loss 0.1182\n",
            "Epoch [45/50], Step [45/50], Loss 0.1177\n",
            "Epoch [50/50], Step [50/50], Loss 0.1171\n"
          ],
          "name": "stdout"
        }
      ]
    },
    {
      "cell_type": "markdown",
      "metadata": {
        "id": "wWxMqwAzds-X"
      },
      "source": [
        "# Stock Market Data From Kaggle"
      ]
    },
    {
      "cell_type": "code",
      "metadata": {
        "colab": {
          "base_uri": "https://localhost:8080/"
        },
        "id": "RHK38KURdtnc",
        "outputId": "09f4f1a6-a237-421e-9650-0e236110cd22"
      },
      "source": [
        "!pip install kaggle\r\n",
        "!mkdir ~/.kaggle\r\n",
        "!cp /content/kaggle.json ~/.kaggle/kaggle.json\r\n",
        "!chmod 600 /root/.kaggle/kaggle.json"
      ],
      "execution_count": null,
      "outputs": [
        {
          "output_type": "stream",
          "text": [
            "Requirement already satisfied: kaggle in /usr/local/lib/python3.7/dist-packages (1.5.10)\n",
            "Requirement already satisfied: python-dateutil in /usr/local/lib/python3.7/dist-packages (from kaggle) (2.8.1)\n",
            "Requirement already satisfied: six>=1.10 in /usr/local/lib/python3.7/dist-packages (from kaggle) (1.15.0)\n",
            "Requirement already satisfied: urllib3 in /usr/local/lib/python3.7/dist-packages (from kaggle) (1.24.3)\n",
            "Requirement already satisfied: python-slugify in /usr/local/lib/python3.7/dist-packages (from kaggle) (4.0.1)\n",
            "Requirement already satisfied: tqdm in /usr/local/lib/python3.7/dist-packages (from kaggle) (4.41.1)\n",
            "Requirement already satisfied: certifi in /usr/local/lib/python3.7/dist-packages (from kaggle) (2020.12.5)\n",
            "Requirement already satisfied: requests in /usr/local/lib/python3.7/dist-packages (from kaggle) (2.23.0)\n",
            "Requirement already satisfied: text-unidecode>=1.3 in /usr/local/lib/python3.7/dist-packages (from python-slugify->kaggle) (1.3)\n",
            "Requirement already satisfied: chardet<4,>=3.0.2 in /usr/local/lib/python3.7/dist-packages (from requests->kaggle) (3.0.4)\n",
            "Requirement already satisfied: idna<3,>=2.5 in /usr/local/lib/python3.7/dist-packages (from requests->kaggle) (2.10)\n",
            "mkdir: cannot create directory ‘/root/.kaggle’: File exists\n"
          ],
          "name": "stdout"
        }
      ]
    },
    {
      "cell_type": "code",
      "metadata": {
        "colab": {
          "base_uri": "https://localhost:8080/"
        },
        "id": "4nF3T1CPei1M",
        "outputId": "206f0a7f-fa76-4fae-adc2-34704ece9ae5"
      },
      "source": [
        "!kaggle datasets download -d camnugent/sandp500\r\n",
        "!unzip /content/sandp500.zip"
      ],
      "execution_count": null,
      "outputs": [
        {
          "output_type": "stream",
          "text": [
            "sandp500.zip: Skipping, found more recently modified local copy (use --force to force download)\n",
            "Archive:  /content/sandp500.zip\n",
            "replace all_stocks_5yr.csv? [y]es, [n]o, [A]ll, [N]one, [r]ename: y\n",
            "  inflating: all_stocks_5yr.csv      \n",
            "replace getSandP.py? [y]es, [n]o, [A]ll, [N]one, [r]ename: A\n",
            "  inflating: getSandP.py             \n",
            "  inflating: individual_stocks_5yr/__MACOSX/individual_stocks_5yr/._.DS_Store  \n",
            "  inflating: individual_stocks_5yr/__MACOSX/individual_stocks_5yr/._AAPL_data.csv  \n",
            "  inflating: individual_stocks_5yr/__MACOSX/individual_stocks_5yr/._ABC_data.csv  \n",
            "  inflating: individual_stocks_5yr/__MACOSX/individual_stocks_5yr/._A_data.csv  \n",
            "  inflating: individual_stocks_5yr/__MACOSX/individual_stocks_5yr/._MAS_data.csv  \n",
            "  inflating: individual_stocks_5yr/individual_stocks_5yr/.DS_Store  \n",
            "  inflating: individual_stocks_5yr/individual_stocks_5yr/AAL_data.csv  \n",
            "  inflating: individual_stocks_5yr/individual_stocks_5yr/AAPL_data.csv  \n",
            "  inflating: individual_stocks_5yr/individual_stocks_5yr/AAP_data.csv  \n",
            "  inflating: individual_stocks_5yr/individual_stocks_5yr/ABBV_data.csv  \n",
            "  inflating: individual_stocks_5yr/individual_stocks_5yr/ABC_data.csv  \n",
            "  inflating: individual_stocks_5yr/individual_stocks_5yr/ABT_data.csv  \n",
            "  inflating: individual_stocks_5yr/individual_stocks_5yr/ACN_data.csv  \n",
            "  inflating: individual_stocks_5yr/individual_stocks_5yr/ADBE_data.csv  \n",
            "  inflating: individual_stocks_5yr/individual_stocks_5yr/ADI_data.csv  \n",
            "  inflating: individual_stocks_5yr/individual_stocks_5yr/ADM_data.csv  \n",
            "  inflating: individual_stocks_5yr/individual_stocks_5yr/ADP_data.csv  \n",
            "  inflating: individual_stocks_5yr/individual_stocks_5yr/ADSK_data.csv  \n",
            "  inflating: individual_stocks_5yr/individual_stocks_5yr/ADS_data.csv  \n",
            "  inflating: individual_stocks_5yr/individual_stocks_5yr/AEE_data.csv  \n",
            "  inflating: individual_stocks_5yr/individual_stocks_5yr/AEP_data.csv  \n",
            "  inflating: individual_stocks_5yr/individual_stocks_5yr/AES_data.csv  \n",
            "  inflating: individual_stocks_5yr/individual_stocks_5yr/AET_data.csv  \n",
            "  inflating: individual_stocks_5yr/individual_stocks_5yr/AFL_data.csv  \n",
            "  inflating: individual_stocks_5yr/individual_stocks_5yr/AGN_data.csv  \n",
            "  inflating: individual_stocks_5yr/individual_stocks_5yr/AIG_data.csv  \n",
            "  inflating: individual_stocks_5yr/individual_stocks_5yr/AIV_data.csv  \n",
            "  inflating: individual_stocks_5yr/individual_stocks_5yr/AIZ_data.csv  \n",
            "  inflating: individual_stocks_5yr/individual_stocks_5yr/AJG_data.csv  \n",
            "  inflating: individual_stocks_5yr/individual_stocks_5yr/AKAM_data.csv  \n",
            "  inflating: individual_stocks_5yr/individual_stocks_5yr/ALB_data.csv  \n",
            "  inflating: individual_stocks_5yr/individual_stocks_5yr/ALGN_data.csv  \n",
            "  inflating: individual_stocks_5yr/individual_stocks_5yr/ALK_data.csv  \n",
            "  inflating: individual_stocks_5yr/individual_stocks_5yr/ALLE_data.csv  \n",
            "  inflating: individual_stocks_5yr/individual_stocks_5yr/ALL_data.csv  \n",
            "  inflating: individual_stocks_5yr/individual_stocks_5yr/ALXN_data.csv  \n",
            "  inflating: individual_stocks_5yr/individual_stocks_5yr/AMAT_data.csv  \n",
            "  inflating: individual_stocks_5yr/individual_stocks_5yr/AMD_data.csv  \n",
            "  inflating: individual_stocks_5yr/individual_stocks_5yr/AME_data.csv  \n",
            "  inflating: individual_stocks_5yr/individual_stocks_5yr/AMGN_data.csv  \n",
            "  inflating: individual_stocks_5yr/individual_stocks_5yr/AMG_data.csv  \n",
            "  inflating: individual_stocks_5yr/individual_stocks_5yr/AMP_data.csv  \n",
            "  inflating: individual_stocks_5yr/individual_stocks_5yr/AMT_data.csv  \n",
            "  inflating: individual_stocks_5yr/individual_stocks_5yr/AMZN_data.csv  \n",
            "  inflating: individual_stocks_5yr/individual_stocks_5yr/ANDV_data.csv  \n",
            "  inflating: individual_stocks_5yr/individual_stocks_5yr/ANSS_data.csv  \n",
            "  inflating: individual_stocks_5yr/individual_stocks_5yr/ANTM_data.csv  \n",
            "  inflating: individual_stocks_5yr/individual_stocks_5yr/AON_data.csv  \n",
            "  inflating: individual_stocks_5yr/individual_stocks_5yr/AOS_data.csv  \n",
            "  inflating: individual_stocks_5yr/individual_stocks_5yr/APA_data.csv  \n",
            "  inflating: individual_stocks_5yr/individual_stocks_5yr/APC_data.csv  \n",
            "  inflating: individual_stocks_5yr/individual_stocks_5yr/APD_data.csv  \n",
            "  inflating: individual_stocks_5yr/individual_stocks_5yr/APH_data.csv  \n",
            "  inflating: individual_stocks_5yr/individual_stocks_5yr/APTV_data.csv  \n",
            "  inflating: individual_stocks_5yr/individual_stocks_5yr/ARE_data.csv  \n",
            "  inflating: individual_stocks_5yr/individual_stocks_5yr/ARNC_data.csv  \n",
            "  inflating: individual_stocks_5yr/individual_stocks_5yr/ATVI_data.csv  \n",
            "  inflating: individual_stocks_5yr/individual_stocks_5yr/AVB_data.csv  \n",
            "  inflating: individual_stocks_5yr/individual_stocks_5yr/AVGO_data.csv  \n",
            "  inflating: individual_stocks_5yr/individual_stocks_5yr/AVY_data.csv  \n",
            "  inflating: individual_stocks_5yr/individual_stocks_5yr/AWK_data.csv  \n",
            "  inflating: individual_stocks_5yr/individual_stocks_5yr/AXP_data.csv  \n",
            "  inflating: individual_stocks_5yr/individual_stocks_5yr/AYI_data.csv  \n",
            "  inflating: individual_stocks_5yr/individual_stocks_5yr/AZO_data.csv  \n",
            "  inflating: individual_stocks_5yr/individual_stocks_5yr/A_data.csv  \n",
            "  inflating: individual_stocks_5yr/individual_stocks_5yr/BAC_data.csv  \n",
            "  inflating: individual_stocks_5yr/individual_stocks_5yr/BAX_data.csv  \n",
            "  inflating: individual_stocks_5yr/individual_stocks_5yr/BA_data.csv  \n",
            "  inflating: individual_stocks_5yr/individual_stocks_5yr/BBT_data.csv  \n",
            "  inflating: individual_stocks_5yr/individual_stocks_5yr/BBY_data.csv  \n",
            "  inflating: individual_stocks_5yr/individual_stocks_5yr/BDX_data.csv  \n",
            "  inflating: individual_stocks_5yr/individual_stocks_5yr/BEN_data.csv  \n",
            "  inflating: individual_stocks_5yr/individual_stocks_5yr/BF.B_data.csv  \n",
            "  inflating: individual_stocks_5yr/individual_stocks_5yr/BHF_data.csv  \n",
            "  inflating: individual_stocks_5yr/individual_stocks_5yr/BHGE_data.csv  \n",
            "  inflating: individual_stocks_5yr/individual_stocks_5yr/BIIB_data.csv  \n",
            "  inflating: individual_stocks_5yr/individual_stocks_5yr/BK_data.csv  \n",
            "  inflating: individual_stocks_5yr/individual_stocks_5yr/BLK_data.csv  \n",
            "  inflating: individual_stocks_5yr/individual_stocks_5yr/BLL_data.csv  \n",
            "  inflating: individual_stocks_5yr/individual_stocks_5yr/BMY_data.csv  \n",
            "  inflating: individual_stocks_5yr/individual_stocks_5yr/BRK.B_data.csv  \n",
            "  inflating: individual_stocks_5yr/individual_stocks_5yr/BSX_data.csv  \n",
            "  inflating: individual_stocks_5yr/individual_stocks_5yr/BWA_data.csv  \n",
            "  inflating: individual_stocks_5yr/individual_stocks_5yr/BXP_data.csv  \n",
            "  inflating: individual_stocks_5yr/individual_stocks_5yr/CAG_data.csv  \n",
            "  inflating: individual_stocks_5yr/individual_stocks_5yr/CAH_data.csv  \n",
            "  inflating: individual_stocks_5yr/individual_stocks_5yr/CAT_data.csv  \n",
            "  inflating: individual_stocks_5yr/individual_stocks_5yr/CA_data.csv  \n",
            "  inflating: individual_stocks_5yr/individual_stocks_5yr/CBG_data.csv  \n",
            "  inflating: individual_stocks_5yr/individual_stocks_5yr/CBOE_data.csv  \n",
            "  inflating: individual_stocks_5yr/individual_stocks_5yr/CBS_data.csv  \n",
            "  inflating: individual_stocks_5yr/individual_stocks_5yr/CB_data.csv  \n",
            "  inflating: individual_stocks_5yr/individual_stocks_5yr/CCI_data.csv  \n",
            "  inflating: individual_stocks_5yr/individual_stocks_5yr/CCL_data.csv  \n",
            "  inflating: individual_stocks_5yr/individual_stocks_5yr/CDNS_data.csv  \n",
            "  inflating: individual_stocks_5yr/individual_stocks_5yr/CELG_data.csv  \n",
            "  inflating: individual_stocks_5yr/individual_stocks_5yr/CERN_data.csv  \n",
            "  inflating: individual_stocks_5yr/individual_stocks_5yr/CFG_data.csv  \n",
            "  inflating: individual_stocks_5yr/individual_stocks_5yr/CF_data.csv  \n",
            "  inflating: individual_stocks_5yr/individual_stocks_5yr/CHD_data.csv  \n",
            "  inflating: individual_stocks_5yr/individual_stocks_5yr/CHK_data.csv  \n",
            "  inflating: individual_stocks_5yr/individual_stocks_5yr/CHRW_data.csv  \n",
            "  inflating: individual_stocks_5yr/individual_stocks_5yr/CHTR_data.csv  \n",
            "  inflating: individual_stocks_5yr/individual_stocks_5yr/CINF_data.csv  \n",
            "  inflating: individual_stocks_5yr/individual_stocks_5yr/CI_data.csv  \n",
            "  inflating: individual_stocks_5yr/individual_stocks_5yr/CLX_data.csv  \n",
            "  inflating: individual_stocks_5yr/individual_stocks_5yr/CL_data.csv  \n",
            "  inflating: individual_stocks_5yr/individual_stocks_5yr/CMA_data.csv  \n",
            "  inflating: individual_stocks_5yr/individual_stocks_5yr/CMCSA_data.csv  \n",
            "  inflating: individual_stocks_5yr/individual_stocks_5yr/CME_data.csv  \n",
            "  inflating: individual_stocks_5yr/individual_stocks_5yr/CMG_data.csv  \n",
            "  inflating: individual_stocks_5yr/individual_stocks_5yr/CMI_data.csv  \n",
            "  inflating: individual_stocks_5yr/individual_stocks_5yr/CMS_data.csv  \n",
            "  inflating: individual_stocks_5yr/individual_stocks_5yr/CNC_data.csv  \n",
            "  inflating: individual_stocks_5yr/individual_stocks_5yr/CNP_data.csv  \n",
            "  inflating: individual_stocks_5yr/individual_stocks_5yr/COF_data.csv  \n",
            "  inflating: individual_stocks_5yr/individual_stocks_5yr/COG_data.csv  \n",
            "  inflating: individual_stocks_5yr/individual_stocks_5yr/COL_data.csv  \n",
            "  inflating: individual_stocks_5yr/individual_stocks_5yr/COO_data.csv  \n",
            "  inflating: individual_stocks_5yr/individual_stocks_5yr/COP_data.csv  \n",
            "  inflating: individual_stocks_5yr/individual_stocks_5yr/COST_data.csv  \n",
            "  inflating: individual_stocks_5yr/individual_stocks_5yr/COTY_data.csv  \n",
            "  inflating: individual_stocks_5yr/individual_stocks_5yr/CPB_data.csv  \n",
            "  inflating: individual_stocks_5yr/individual_stocks_5yr/CRM_data.csv  \n",
            "  inflating: individual_stocks_5yr/individual_stocks_5yr/CSCO_data.csv  \n",
            "  inflating: individual_stocks_5yr/individual_stocks_5yr/CSRA_data.csv  \n",
            "  inflating: individual_stocks_5yr/individual_stocks_5yr/CSX_data.csv  \n",
            "  inflating: individual_stocks_5yr/individual_stocks_5yr/CTAS_data.csv  \n",
            "  inflating: individual_stocks_5yr/individual_stocks_5yr/CTL_data.csv  \n",
            "  inflating: individual_stocks_5yr/individual_stocks_5yr/CTSH_data.csv  \n",
            "  inflating: individual_stocks_5yr/individual_stocks_5yr/CTXS_data.csv  \n",
            "  inflating: individual_stocks_5yr/individual_stocks_5yr/CVS_data.csv  \n",
            "  inflating: individual_stocks_5yr/individual_stocks_5yr/CVX_data.csv  \n",
            "  inflating: individual_stocks_5yr/individual_stocks_5yr/CXO_data.csv  \n",
            "  inflating: individual_stocks_5yr/individual_stocks_5yr/C_data.csv  \n",
            "  inflating: individual_stocks_5yr/individual_stocks_5yr/DAL_data.csv  \n",
            "  inflating: individual_stocks_5yr/individual_stocks_5yr/DE_data.csv  \n",
            "  inflating: individual_stocks_5yr/individual_stocks_5yr/DFS_data.csv  \n",
            "  inflating: individual_stocks_5yr/individual_stocks_5yr/DGX_data.csv  \n",
            "  inflating: individual_stocks_5yr/individual_stocks_5yr/DG_data.csv  \n",
            "  inflating: individual_stocks_5yr/individual_stocks_5yr/DHI_data.csv  \n",
            "  inflating: individual_stocks_5yr/individual_stocks_5yr/DHR_data.csv  \n",
            "  inflating: individual_stocks_5yr/individual_stocks_5yr/DISCA_data.csv  \n",
            "  inflating: individual_stocks_5yr/individual_stocks_5yr/DISCK_data.csv  \n",
            "  inflating: individual_stocks_5yr/individual_stocks_5yr/DISH_data.csv  \n",
            "  inflating: individual_stocks_5yr/individual_stocks_5yr/DIS_data.csv  \n",
            "  inflating: individual_stocks_5yr/individual_stocks_5yr/DLR_data.csv  \n",
            "  inflating: individual_stocks_5yr/individual_stocks_5yr/DLTR_data.csv  \n",
            "  inflating: individual_stocks_5yr/individual_stocks_5yr/DOV_data.csv  \n",
            "  inflating: individual_stocks_5yr/individual_stocks_5yr/DPS_data.csv  \n",
            "  inflating: individual_stocks_5yr/individual_stocks_5yr/DRE_data.csv  \n",
            "  inflating: individual_stocks_5yr/individual_stocks_5yr/DRI_data.csv  \n",
            "  inflating: individual_stocks_5yr/individual_stocks_5yr/DTE_data.csv  \n",
            "  inflating: individual_stocks_5yr/individual_stocks_5yr/DUK_data.csv  \n",
            "  inflating: individual_stocks_5yr/individual_stocks_5yr/DVA_data.csv  \n",
            "  inflating: individual_stocks_5yr/individual_stocks_5yr/DVN_data.csv  \n",
            "  inflating: individual_stocks_5yr/individual_stocks_5yr/DWDP_data.csv  \n",
            "  inflating: individual_stocks_5yr/individual_stocks_5yr/DXC_data.csv  \n",
            "  inflating: individual_stocks_5yr/individual_stocks_5yr/D_data.csv  \n",
            "  inflating: individual_stocks_5yr/individual_stocks_5yr/EA_data.csv  \n",
            "  inflating: individual_stocks_5yr/individual_stocks_5yr/EBAY_data.csv  \n",
            "  inflating: individual_stocks_5yr/individual_stocks_5yr/ECL_data.csv  \n",
            "  inflating: individual_stocks_5yr/individual_stocks_5yr/ED_data.csv  \n",
            "  inflating: individual_stocks_5yr/individual_stocks_5yr/EFX_data.csv  \n",
            "  inflating: individual_stocks_5yr/individual_stocks_5yr/EIX_data.csv  \n",
            "  inflating: individual_stocks_5yr/individual_stocks_5yr/EL_data.csv  \n",
            "  inflating: individual_stocks_5yr/individual_stocks_5yr/EMN_data.csv  \n",
            "  inflating: individual_stocks_5yr/individual_stocks_5yr/EMR_data.csv  \n",
            "  inflating: individual_stocks_5yr/individual_stocks_5yr/EOG_data.csv  \n",
            "  inflating: individual_stocks_5yr/individual_stocks_5yr/EQIX_data.csv  \n",
            "  inflating: individual_stocks_5yr/individual_stocks_5yr/EQR_data.csv  \n",
            "  inflating: individual_stocks_5yr/individual_stocks_5yr/EQT_data.csv  \n",
            "  inflating: individual_stocks_5yr/individual_stocks_5yr/ESRX_data.csv  \n",
            "  inflating: individual_stocks_5yr/individual_stocks_5yr/ESS_data.csv  \n",
            "  inflating: individual_stocks_5yr/individual_stocks_5yr/ES_data.csv  \n",
            "  inflating: individual_stocks_5yr/individual_stocks_5yr/ETFC_data.csv  \n",
            "  inflating: individual_stocks_5yr/individual_stocks_5yr/ETN_data.csv  \n",
            "  inflating: individual_stocks_5yr/individual_stocks_5yr/ETR_data.csv  \n",
            "  inflating: individual_stocks_5yr/individual_stocks_5yr/EVHC_data.csv  \n",
            "  inflating: individual_stocks_5yr/individual_stocks_5yr/EW_data.csv  \n",
            "  inflating: individual_stocks_5yr/individual_stocks_5yr/EXC_data.csv  \n",
            "  inflating: individual_stocks_5yr/individual_stocks_5yr/EXPD_data.csv  \n",
            "  inflating: individual_stocks_5yr/individual_stocks_5yr/EXPE_data.csv  \n",
            "  inflating: individual_stocks_5yr/individual_stocks_5yr/EXR_data.csv  \n",
            "  inflating: individual_stocks_5yr/individual_stocks_5yr/FAST_data.csv  \n",
            "  inflating: individual_stocks_5yr/individual_stocks_5yr/FBHS_data.csv  \n",
            "  inflating: individual_stocks_5yr/individual_stocks_5yr/FB_data.csv  \n",
            "  inflating: individual_stocks_5yr/individual_stocks_5yr/FCX_data.csv  \n",
            "  inflating: individual_stocks_5yr/individual_stocks_5yr/FDX_data.csv  \n",
            "  inflating: individual_stocks_5yr/individual_stocks_5yr/FE_data.csv  \n",
            "  inflating: individual_stocks_5yr/individual_stocks_5yr/FFIV_data.csv  \n",
            "  inflating: individual_stocks_5yr/individual_stocks_5yr/FISV_data.csv  \n",
            "  inflating: individual_stocks_5yr/individual_stocks_5yr/FIS_data.csv  \n",
            "  inflating: individual_stocks_5yr/individual_stocks_5yr/FITB_data.csv  \n",
            "  inflating: individual_stocks_5yr/individual_stocks_5yr/FLIR_data.csv  \n",
            "  inflating: individual_stocks_5yr/individual_stocks_5yr/FLR_data.csv  \n",
            "  inflating: individual_stocks_5yr/individual_stocks_5yr/FLS_data.csv  \n",
            "  inflating: individual_stocks_5yr/individual_stocks_5yr/FL_data.csv  \n",
            "  inflating: individual_stocks_5yr/individual_stocks_5yr/FMC_data.csv  \n",
            "  inflating: individual_stocks_5yr/individual_stocks_5yr/FOXA_data.csv  \n",
            "  inflating: individual_stocks_5yr/individual_stocks_5yr/FOX_data.csv  \n",
            "  inflating: individual_stocks_5yr/individual_stocks_5yr/FRT_data.csv  \n",
            "  inflating: individual_stocks_5yr/individual_stocks_5yr/FTI_data.csv  \n",
            "  inflating: individual_stocks_5yr/individual_stocks_5yr/FTV_data.csv  \n",
            "  inflating: individual_stocks_5yr/individual_stocks_5yr/F_data.csv  \n",
            "  inflating: individual_stocks_5yr/individual_stocks_5yr/GD_data.csv  \n",
            "  inflating: individual_stocks_5yr/individual_stocks_5yr/GE_data.csv  \n",
            "  inflating: individual_stocks_5yr/individual_stocks_5yr/GGP_data.csv  \n",
            "  inflating: individual_stocks_5yr/individual_stocks_5yr/GILD_data.csv  \n",
            "  inflating: individual_stocks_5yr/individual_stocks_5yr/GIS_data.csv  \n",
            "  inflating: individual_stocks_5yr/individual_stocks_5yr/GLW_data.csv  \n",
            "  inflating: individual_stocks_5yr/individual_stocks_5yr/GM_data.csv  \n",
            "  inflating: individual_stocks_5yr/individual_stocks_5yr/GOOGL_data.csv  \n",
            "  inflating: individual_stocks_5yr/individual_stocks_5yr/GOOG_data.csv  \n",
            "  inflating: individual_stocks_5yr/individual_stocks_5yr/GPC_data.csv  \n",
            "  inflating: individual_stocks_5yr/individual_stocks_5yr/GPN_data.csv  \n",
            "  inflating: individual_stocks_5yr/individual_stocks_5yr/GPS_data.csv  \n",
            "  inflating: individual_stocks_5yr/individual_stocks_5yr/GRMN_data.csv  \n",
            "  inflating: individual_stocks_5yr/individual_stocks_5yr/GS_data.csv  \n",
            "  inflating: individual_stocks_5yr/individual_stocks_5yr/GT_data.csv  \n",
            "  inflating: individual_stocks_5yr/individual_stocks_5yr/GWW_data.csv  \n",
            "  inflating: individual_stocks_5yr/individual_stocks_5yr/HAL_data.csv  \n",
            "  inflating: individual_stocks_5yr/individual_stocks_5yr/HAS_data.csv  \n",
            "  inflating: individual_stocks_5yr/individual_stocks_5yr/HBAN_data.csv  \n",
            "  inflating: individual_stocks_5yr/individual_stocks_5yr/HBI_data.csv  \n",
            "  inflating: individual_stocks_5yr/individual_stocks_5yr/HCA_data.csv  \n",
            "  inflating: individual_stocks_5yr/individual_stocks_5yr/HCN_data.csv  \n",
            "  inflating: individual_stocks_5yr/individual_stocks_5yr/HCP_data.csv  \n",
            "  inflating: individual_stocks_5yr/individual_stocks_5yr/HD_data.csv  \n",
            "  inflating: individual_stocks_5yr/individual_stocks_5yr/HES_data.csv  \n",
            "  inflating: individual_stocks_5yr/individual_stocks_5yr/HIG_data.csv  \n",
            "  inflating: individual_stocks_5yr/individual_stocks_5yr/HII_data.csv  \n",
            "  inflating: individual_stocks_5yr/individual_stocks_5yr/HLT_data.csv  \n",
            "  inflating: individual_stocks_5yr/individual_stocks_5yr/HOG_data.csv  \n",
            "  inflating: individual_stocks_5yr/individual_stocks_5yr/HOLX_data.csv  \n",
            "  inflating: individual_stocks_5yr/individual_stocks_5yr/HON_data.csv  \n",
            "  inflating: individual_stocks_5yr/individual_stocks_5yr/HPE_data.csv  \n",
            "  inflating: individual_stocks_5yr/individual_stocks_5yr/HPQ_data.csv  \n",
            "  inflating: individual_stocks_5yr/individual_stocks_5yr/HP_data.csv  \n",
            "  inflating: individual_stocks_5yr/individual_stocks_5yr/HRB_data.csv  \n",
            "  inflating: individual_stocks_5yr/individual_stocks_5yr/HRL_data.csv  \n",
            "  inflating: individual_stocks_5yr/individual_stocks_5yr/HRS_data.csv  \n",
            "  inflating: individual_stocks_5yr/individual_stocks_5yr/HSIC_data.csv  \n",
            "  inflating: individual_stocks_5yr/individual_stocks_5yr/HST_data.csv  \n",
            "  inflating: individual_stocks_5yr/individual_stocks_5yr/HSY_data.csv  \n",
            "  inflating: individual_stocks_5yr/individual_stocks_5yr/HUM_data.csv  \n",
            "  inflating: individual_stocks_5yr/individual_stocks_5yr/IBM_data.csv  \n",
            "  inflating: individual_stocks_5yr/individual_stocks_5yr/ICE_data.csv  \n",
            "  inflating: individual_stocks_5yr/individual_stocks_5yr/IDXX_data.csv  \n",
            "  inflating: individual_stocks_5yr/individual_stocks_5yr/IFF_data.csv  \n",
            "  inflating: individual_stocks_5yr/individual_stocks_5yr/ILMN_data.csv  \n",
            "  inflating: individual_stocks_5yr/individual_stocks_5yr/INCY_data.csv  \n",
            "  inflating: individual_stocks_5yr/individual_stocks_5yr/INFO_data.csv  \n",
            "  inflating: individual_stocks_5yr/individual_stocks_5yr/INTC_data.csv  \n",
            "  inflating: individual_stocks_5yr/individual_stocks_5yr/INTU_data.csv  \n",
            "  inflating: individual_stocks_5yr/individual_stocks_5yr/IPG_data.csv  \n",
            "  inflating: individual_stocks_5yr/individual_stocks_5yr/IP_data.csv  \n",
            "  inflating: individual_stocks_5yr/individual_stocks_5yr/IQV_data.csv  \n",
            "  inflating: individual_stocks_5yr/individual_stocks_5yr/IRM_data.csv  \n",
            "  inflating: individual_stocks_5yr/individual_stocks_5yr/IR_data.csv  \n",
            "  inflating: individual_stocks_5yr/individual_stocks_5yr/ISRG_data.csv  \n",
            "  inflating: individual_stocks_5yr/individual_stocks_5yr/ITW_data.csv  \n",
            "  inflating: individual_stocks_5yr/individual_stocks_5yr/IT_data.csv  \n",
            "  inflating: individual_stocks_5yr/individual_stocks_5yr/IVZ_data.csv  \n",
            "  inflating: individual_stocks_5yr/individual_stocks_5yr/JBHT_data.csv  \n",
            "  inflating: individual_stocks_5yr/individual_stocks_5yr/JCI_data.csv  \n",
            "  inflating: individual_stocks_5yr/individual_stocks_5yr/JEC_data.csv  \n",
            "  inflating: individual_stocks_5yr/individual_stocks_5yr/JNJ_data.csv  \n",
            "  inflating: individual_stocks_5yr/individual_stocks_5yr/JNPR_data.csv  \n",
            "  inflating: individual_stocks_5yr/individual_stocks_5yr/JPM_data.csv  \n",
            "  inflating: individual_stocks_5yr/individual_stocks_5yr/JWN_data.csv  \n",
            "  inflating: individual_stocks_5yr/individual_stocks_5yr/KEY_data.csv  \n",
            "  inflating: individual_stocks_5yr/individual_stocks_5yr/KHC_data.csv  \n",
            "  inflating: individual_stocks_5yr/individual_stocks_5yr/KIM_data.csv  \n",
            "  inflating: individual_stocks_5yr/individual_stocks_5yr/KLAC_data.csv  \n",
            "  inflating: individual_stocks_5yr/individual_stocks_5yr/KMB_data.csv  \n",
            "  inflating: individual_stocks_5yr/individual_stocks_5yr/KMI_data.csv  \n",
            "  inflating: individual_stocks_5yr/individual_stocks_5yr/KMX_data.csv  \n",
            "  inflating: individual_stocks_5yr/individual_stocks_5yr/KORS_data.csv  \n",
            "  inflating: individual_stocks_5yr/individual_stocks_5yr/KO_data.csv  \n",
            "  inflating: individual_stocks_5yr/individual_stocks_5yr/KR_data.csv  \n",
            "  inflating: individual_stocks_5yr/individual_stocks_5yr/KSS_data.csv  \n",
            "  inflating: individual_stocks_5yr/individual_stocks_5yr/KSU_data.csv  \n",
            "  inflating: individual_stocks_5yr/individual_stocks_5yr/K_data.csv  \n",
            "  inflating: individual_stocks_5yr/individual_stocks_5yr/LB_data.csv  \n",
            "  inflating: individual_stocks_5yr/individual_stocks_5yr/LEG_data.csv  \n",
            "  inflating: individual_stocks_5yr/individual_stocks_5yr/LEN_data.csv  \n",
            "  inflating: individual_stocks_5yr/individual_stocks_5yr/LH_data.csv  \n",
            "  inflating: individual_stocks_5yr/individual_stocks_5yr/LKQ_data.csv  \n",
            "  inflating: individual_stocks_5yr/individual_stocks_5yr/LLL_data.csv  \n",
            "  inflating: individual_stocks_5yr/individual_stocks_5yr/LLY_data.csv  \n",
            "  inflating: individual_stocks_5yr/individual_stocks_5yr/LMT_data.csv  \n",
            "  inflating: individual_stocks_5yr/individual_stocks_5yr/LNC_data.csv  \n",
            "  inflating: individual_stocks_5yr/individual_stocks_5yr/LNT_data.csv  \n",
            "  inflating: individual_stocks_5yr/individual_stocks_5yr/LOW_data.csv  \n",
            "  inflating: individual_stocks_5yr/individual_stocks_5yr/LRCX_data.csv  \n",
            "  inflating: individual_stocks_5yr/individual_stocks_5yr/LUK_data.csv  \n",
            "  inflating: individual_stocks_5yr/individual_stocks_5yr/LUV_data.csv  \n",
            "  inflating: individual_stocks_5yr/individual_stocks_5yr/LYB_data.csv  \n",
            "  inflating: individual_stocks_5yr/individual_stocks_5yr/L_data.csv  \n",
            "  inflating: individual_stocks_5yr/individual_stocks_5yr/MAA_data.csv  \n",
            "  inflating: individual_stocks_5yr/individual_stocks_5yr/MAC_data.csv  \n",
            "  inflating: individual_stocks_5yr/individual_stocks_5yr/MAR_data.csv  \n",
            "  inflating: individual_stocks_5yr/individual_stocks_5yr/MAS_data.csv  \n",
            "  inflating: individual_stocks_5yr/individual_stocks_5yr/MAT_data.csv  \n",
            "  inflating: individual_stocks_5yr/individual_stocks_5yr/MA_data.csv  \n",
            "  inflating: individual_stocks_5yr/individual_stocks_5yr/MCD_data.csv  \n",
            "  inflating: individual_stocks_5yr/individual_stocks_5yr/MCHP_data.csv  \n",
            "  inflating: individual_stocks_5yr/individual_stocks_5yr/MCK_data.csv  \n",
            "  inflating: individual_stocks_5yr/individual_stocks_5yr/MCO_data.csv  \n",
            "  inflating: individual_stocks_5yr/individual_stocks_5yr/MDLZ_data.csv  \n",
            "  inflating: individual_stocks_5yr/individual_stocks_5yr/MDT_data.csv  \n",
            "  inflating: individual_stocks_5yr/individual_stocks_5yr/MET_data.csv  \n",
            "  inflating: individual_stocks_5yr/individual_stocks_5yr/MGM_data.csv  \n",
            "  inflating: individual_stocks_5yr/individual_stocks_5yr/MHK_data.csv  \n",
            "  inflating: individual_stocks_5yr/individual_stocks_5yr/MKC_data.csv  \n",
            "  inflating: individual_stocks_5yr/individual_stocks_5yr/MLM_data.csv  \n",
            "  inflating: individual_stocks_5yr/individual_stocks_5yr/MMC_data.csv  \n",
            "  inflating: individual_stocks_5yr/individual_stocks_5yr/MMM_data.csv  \n",
            "  inflating: individual_stocks_5yr/individual_stocks_5yr/MNST_data.csv  \n",
            "  inflating: individual_stocks_5yr/individual_stocks_5yr/MON_data.csv  \n",
            "  inflating: individual_stocks_5yr/individual_stocks_5yr/MOS_data.csv  \n",
            "  inflating: individual_stocks_5yr/individual_stocks_5yr/MO_data.csv  \n",
            "  inflating: individual_stocks_5yr/individual_stocks_5yr/MPC_data.csv  \n",
            "  inflating: individual_stocks_5yr/individual_stocks_5yr/MRK_data.csv  \n",
            "  inflating: individual_stocks_5yr/individual_stocks_5yr/MRO_data.csv  \n",
            "  inflating: individual_stocks_5yr/individual_stocks_5yr/MSFT_data.csv  \n",
            "  inflating: individual_stocks_5yr/individual_stocks_5yr/MSI_data.csv  \n",
            "  inflating: individual_stocks_5yr/individual_stocks_5yr/MS_data.csv  \n",
            "  inflating: individual_stocks_5yr/individual_stocks_5yr/MTB_data.csv  \n",
            "  inflating: individual_stocks_5yr/individual_stocks_5yr/MTD_data.csv  \n",
            "  inflating: individual_stocks_5yr/individual_stocks_5yr/MU_data.csv  \n",
            "  inflating: individual_stocks_5yr/individual_stocks_5yr/MYL_data.csv  \n",
            "  inflating: individual_stocks_5yr/individual_stocks_5yr/M_data.csv  \n",
            "  inflating: individual_stocks_5yr/individual_stocks_5yr/NAVI_data.csv  \n",
            "  inflating: individual_stocks_5yr/individual_stocks_5yr/NBL_data.csv  \n",
            "  inflating: individual_stocks_5yr/individual_stocks_5yr/NCLH_data.csv  \n",
            "  inflating: individual_stocks_5yr/individual_stocks_5yr/NDAQ_data.csv  \n",
            "  inflating: individual_stocks_5yr/individual_stocks_5yr/NEE_data.csv  \n",
            "  inflating: individual_stocks_5yr/individual_stocks_5yr/NEM_data.csv  \n",
            "  inflating: individual_stocks_5yr/individual_stocks_5yr/NFLX_data.csv  \n",
            "  inflating: individual_stocks_5yr/individual_stocks_5yr/NFX_data.csv  \n",
            "  inflating: individual_stocks_5yr/individual_stocks_5yr/NI_data.csv  \n",
            "  inflating: individual_stocks_5yr/individual_stocks_5yr/NKE_data.csv  \n",
            "  inflating: individual_stocks_5yr/individual_stocks_5yr/NLSN_data.csv  \n",
            "  inflating: individual_stocks_5yr/individual_stocks_5yr/NOC_data.csv  \n",
            "  inflating: individual_stocks_5yr/individual_stocks_5yr/NOV_data.csv  \n",
            "  inflating: individual_stocks_5yr/individual_stocks_5yr/NRG_data.csv  \n",
            "  inflating: individual_stocks_5yr/individual_stocks_5yr/NSC_data.csv  \n",
            "  inflating: individual_stocks_5yr/individual_stocks_5yr/NTAP_data.csv  \n",
            "  inflating: individual_stocks_5yr/individual_stocks_5yr/NTRS_data.csv  \n",
            "  inflating: individual_stocks_5yr/individual_stocks_5yr/NUE_data.csv  \n",
            "  inflating: individual_stocks_5yr/individual_stocks_5yr/NVDA_data.csv  \n",
            "  inflating: individual_stocks_5yr/individual_stocks_5yr/NWL_data.csv  \n",
            "  inflating: individual_stocks_5yr/individual_stocks_5yr/NWSA_data.csv  \n",
            "  inflating: individual_stocks_5yr/individual_stocks_5yr/NWS_data.csv  \n",
            "  inflating: individual_stocks_5yr/individual_stocks_5yr/OKE_data.csv  \n",
            "  inflating: individual_stocks_5yr/individual_stocks_5yr/OMC_data.csv  \n",
            "  inflating: individual_stocks_5yr/individual_stocks_5yr/ORCL_data.csv  \n",
            "  inflating: individual_stocks_5yr/individual_stocks_5yr/ORLY_data.csv  \n",
            "  inflating: individual_stocks_5yr/individual_stocks_5yr/OXY_data.csv  \n",
            "  inflating: individual_stocks_5yr/individual_stocks_5yr/O_data.csv  \n",
            "  inflating: individual_stocks_5yr/individual_stocks_5yr/PAYX_data.csv  \n",
            "  inflating: individual_stocks_5yr/individual_stocks_5yr/PBCT_data.csv  \n",
            "  inflating: individual_stocks_5yr/individual_stocks_5yr/PCAR_data.csv  \n",
            "  inflating: individual_stocks_5yr/individual_stocks_5yr/PCG_data.csv  \n",
            "  inflating: individual_stocks_5yr/individual_stocks_5yr/PCLN_data.csv  \n",
            "  inflating: individual_stocks_5yr/individual_stocks_5yr/PDCO_data.csv  \n",
            "  inflating: individual_stocks_5yr/individual_stocks_5yr/PEG_data.csv  \n",
            "  inflating: individual_stocks_5yr/individual_stocks_5yr/PEP_data.csv  \n",
            "  inflating: individual_stocks_5yr/individual_stocks_5yr/PFE_data.csv  \n",
            "  inflating: individual_stocks_5yr/individual_stocks_5yr/PFG_data.csv  \n",
            "  inflating: individual_stocks_5yr/individual_stocks_5yr/PGR_data.csv  \n",
            "  inflating: individual_stocks_5yr/individual_stocks_5yr/PG_data.csv  \n",
            "  inflating: individual_stocks_5yr/individual_stocks_5yr/PHM_data.csv  \n",
            "  inflating: individual_stocks_5yr/individual_stocks_5yr/PH_data.csv  \n",
            "  inflating: individual_stocks_5yr/individual_stocks_5yr/PKG_data.csv  \n",
            "  inflating: individual_stocks_5yr/individual_stocks_5yr/PKI_data.csv  \n",
            "  inflating: individual_stocks_5yr/individual_stocks_5yr/PLD_data.csv  \n",
            "  inflating: individual_stocks_5yr/individual_stocks_5yr/PM_data.csv  \n",
            "  inflating: individual_stocks_5yr/individual_stocks_5yr/PNC_data.csv  \n",
            "  inflating: individual_stocks_5yr/individual_stocks_5yr/PNR_data.csv  \n",
            "  inflating: individual_stocks_5yr/individual_stocks_5yr/PNW_data.csv  \n",
            "  inflating: individual_stocks_5yr/individual_stocks_5yr/PPG_data.csv  \n",
            "  inflating: individual_stocks_5yr/individual_stocks_5yr/PPL_data.csv  \n",
            "  inflating: individual_stocks_5yr/individual_stocks_5yr/PRGO_data.csv  \n",
            "  inflating: individual_stocks_5yr/individual_stocks_5yr/PRU_data.csv  \n",
            "  inflating: individual_stocks_5yr/individual_stocks_5yr/PSA_data.csv  \n",
            "  inflating: individual_stocks_5yr/individual_stocks_5yr/PSX_data.csv  \n",
            "  inflating: individual_stocks_5yr/individual_stocks_5yr/PVH_data.csv  \n",
            "  inflating: individual_stocks_5yr/individual_stocks_5yr/PWR_data.csv  \n",
            "  inflating: individual_stocks_5yr/individual_stocks_5yr/PXD_data.csv  \n",
            "  inflating: individual_stocks_5yr/individual_stocks_5yr/PX_data.csv  \n",
            "  inflating: individual_stocks_5yr/individual_stocks_5yr/PYPL_data.csv  \n",
            "  inflating: individual_stocks_5yr/individual_stocks_5yr/QCOM_data.csv  \n",
            "  inflating: individual_stocks_5yr/individual_stocks_5yr/QRVO_data.csv  \n",
            "  inflating: individual_stocks_5yr/individual_stocks_5yr/RCL_data.csv  \n",
            "  inflating: individual_stocks_5yr/individual_stocks_5yr/REGN_data.csv  \n",
            "  inflating: individual_stocks_5yr/individual_stocks_5yr/REG_data.csv  \n",
            "  inflating: individual_stocks_5yr/individual_stocks_5yr/RE_data.csv  \n",
            "  inflating: individual_stocks_5yr/individual_stocks_5yr/RF_data.csv  \n",
            "  inflating: individual_stocks_5yr/individual_stocks_5yr/RHI_data.csv  \n",
            "  inflating: individual_stocks_5yr/individual_stocks_5yr/RHT_data.csv  \n",
            "  inflating: individual_stocks_5yr/individual_stocks_5yr/RJF_data.csv  \n",
            "  inflating: individual_stocks_5yr/individual_stocks_5yr/RL_data.csv  \n",
            "  inflating: individual_stocks_5yr/individual_stocks_5yr/RMD_data.csv  \n",
            "  inflating: individual_stocks_5yr/individual_stocks_5yr/ROK_data.csv  \n",
            "  inflating: individual_stocks_5yr/individual_stocks_5yr/ROP_data.csv  \n",
            "  inflating: individual_stocks_5yr/individual_stocks_5yr/ROST_data.csv  \n",
            "  inflating: individual_stocks_5yr/individual_stocks_5yr/RRC_data.csv  \n",
            "  inflating: individual_stocks_5yr/individual_stocks_5yr/RSG_data.csv  \n",
            "  inflating: individual_stocks_5yr/individual_stocks_5yr/RTN_data.csv  \n",
            "  inflating: individual_stocks_5yr/individual_stocks_5yr/SBAC_data.csv  \n",
            "  inflating: individual_stocks_5yr/individual_stocks_5yr/SBUX_data.csv  \n",
            "  inflating: individual_stocks_5yr/individual_stocks_5yr/SCG_data.csv  \n",
            "  inflating: individual_stocks_5yr/individual_stocks_5yr/SCHW_data.csv  \n",
            "  inflating: individual_stocks_5yr/individual_stocks_5yr/SEE_data.csv  \n",
            "  inflating: individual_stocks_5yr/individual_stocks_5yr/SHW_data.csv  \n",
            "  inflating: individual_stocks_5yr/individual_stocks_5yr/SIG_data.csv  \n",
            "  inflating: individual_stocks_5yr/individual_stocks_5yr/SJM_data.csv  \n",
            "  inflating: individual_stocks_5yr/individual_stocks_5yr/SLB_data.csv  \n",
            "  inflating: individual_stocks_5yr/individual_stocks_5yr/SLG_data.csv  \n",
            "  inflating: individual_stocks_5yr/individual_stocks_5yr/SNA_data.csv  \n",
            "  inflating: individual_stocks_5yr/individual_stocks_5yr/SNI_data.csv  \n",
            "  inflating: individual_stocks_5yr/individual_stocks_5yr/SNPS_data.csv  \n",
            "  inflating: individual_stocks_5yr/individual_stocks_5yr/SO_data.csv  \n",
            "  inflating: individual_stocks_5yr/individual_stocks_5yr/SPGI_data.csv  \n",
            "  inflating: individual_stocks_5yr/individual_stocks_5yr/SPG_data.csv  \n",
            "  inflating: individual_stocks_5yr/individual_stocks_5yr/SRCL_data.csv  \n",
            "  inflating: individual_stocks_5yr/individual_stocks_5yr/SRE_data.csv  \n",
            "  inflating: individual_stocks_5yr/individual_stocks_5yr/STI_data.csv  \n",
            "  inflating: individual_stocks_5yr/individual_stocks_5yr/STT_data.csv  \n",
            "  inflating: individual_stocks_5yr/individual_stocks_5yr/STX_data.csv  \n",
            "  inflating: individual_stocks_5yr/individual_stocks_5yr/STZ_data.csv  \n",
            "  inflating: individual_stocks_5yr/individual_stocks_5yr/SWKS_data.csv  \n",
            "  inflating: individual_stocks_5yr/individual_stocks_5yr/SWK_data.csv  \n",
            "  inflating: individual_stocks_5yr/individual_stocks_5yr/SYF_data.csv  \n",
            "  inflating: individual_stocks_5yr/individual_stocks_5yr/SYK_data.csv  \n",
            "  inflating: individual_stocks_5yr/individual_stocks_5yr/SYMC_data.csv  \n",
            "  inflating: individual_stocks_5yr/individual_stocks_5yr/SYY_data.csv  \n",
            "  inflating: individual_stocks_5yr/individual_stocks_5yr/TAP_data.csv  \n",
            "  inflating: individual_stocks_5yr/individual_stocks_5yr/TDG_data.csv  \n",
            "  inflating: individual_stocks_5yr/individual_stocks_5yr/TEL_data.csv  \n",
            "  inflating: individual_stocks_5yr/individual_stocks_5yr/TGT_data.csv  \n",
            "  inflating: individual_stocks_5yr/individual_stocks_5yr/TIF_data.csv  \n",
            "  inflating: individual_stocks_5yr/individual_stocks_5yr/TJX_data.csv  \n",
            "  inflating: individual_stocks_5yr/individual_stocks_5yr/TMK_data.csv  \n",
            "  inflating: individual_stocks_5yr/individual_stocks_5yr/TMO_data.csv  \n",
            "  inflating: individual_stocks_5yr/individual_stocks_5yr/TPR_data.csv  \n",
            "  inflating: individual_stocks_5yr/individual_stocks_5yr/TRIP_data.csv  \n",
            "  inflating: individual_stocks_5yr/individual_stocks_5yr/TROW_data.csv  \n",
            "  inflating: individual_stocks_5yr/individual_stocks_5yr/TRV_data.csv  \n",
            "  inflating: individual_stocks_5yr/individual_stocks_5yr/TSCO_data.csv  \n",
            "  inflating: individual_stocks_5yr/individual_stocks_5yr/TSN_data.csv  \n",
            "  inflating: individual_stocks_5yr/individual_stocks_5yr/TSS_data.csv  \n",
            "  inflating: individual_stocks_5yr/individual_stocks_5yr/TWX_data.csv  \n",
            "  inflating: individual_stocks_5yr/individual_stocks_5yr/TXN_data.csv  \n",
            "  inflating: individual_stocks_5yr/individual_stocks_5yr/TXT_data.csv  \n",
            "  inflating: individual_stocks_5yr/individual_stocks_5yr/T_data.csv  \n",
            "  inflating: individual_stocks_5yr/individual_stocks_5yr/UAA_data.csv  \n",
            "  inflating: individual_stocks_5yr/individual_stocks_5yr/UAL_data.csv  \n",
            "  inflating: individual_stocks_5yr/individual_stocks_5yr/UA_data.csv  \n",
            "  inflating: individual_stocks_5yr/individual_stocks_5yr/UDR_data.csv  \n",
            "  inflating: individual_stocks_5yr/individual_stocks_5yr/UHS_data.csv  \n",
            "  inflating: individual_stocks_5yr/individual_stocks_5yr/ULTA_data.csv  \n",
            "  inflating: individual_stocks_5yr/individual_stocks_5yr/UNH_data.csv  \n",
            "  inflating: individual_stocks_5yr/individual_stocks_5yr/UNM_data.csv  \n",
            "  inflating: individual_stocks_5yr/individual_stocks_5yr/UNP_data.csv  \n",
            "  inflating: individual_stocks_5yr/individual_stocks_5yr/UPS_data.csv  \n",
            "  inflating: individual_stocks_5yr/individual_stocks_5yr/URI_data.csv  \n",
            "  inflating: individual_stocks_5yr/individual_stocks_5yr/USB_data.csv  \n",
            "  inflating: individual_stocks_5yr/individual_stocks_5yr/UTX_data.csv  \n",
            "  inflating: individual_stocks_5yr/individual_stocks_5yr/VAR_data.csv  \n",
            "  inflating: individual_stocks_5yr/individual_stocks_5yr/VFC_data.csv  \n",
            "  inflating: individual_stocks_5yr/individual_stocks_5yr/VIAB_data.csv  \n",
            "  inflating: individual_stocks_5yr/individual_stocks_5yr/VLO_data.csv  \n",
            "  inflating: individual_stocks_5yr/individual_stocks_5yr/VMC_data.csv  \n",
            "  inflating: individual_stocks_5yr/individual_stocks_5yr/VNO_data.csv  \n",
            "  inflating: individual_stocks_5yr/individual_stocks_5yr/VRSK_data.csv  \n",
            "  inflating: individual_stocks_5yr/individual_stocks_5yr/VRSN_data.csv  \n",
            "  inflating: individual_stocks_5yr/individual_stocks_5yr/VRTX_data.csv  \n",
            "  inflating: individual_stocks_5yr/individual_stocks_5yr/VTR_data.csv  \n",
            "  inflating: individual_stocks_5yr/individual_stocks_5yr/VZ_data.csv  \n",
            "  inflating: individual_stocks_5yr/individual_stocks_5yr/V_data.csv  \n",
            "  inflating: individual_stocks_5yr/individual_stocks_5yr/WAT_data.csv  \n",
            "  inflating: individual_stocks_5yr/individual_stocks_5yr/WBA_data.csv  \n",
            "  inflating: individual_stocks_5yr/individual_stocks_5yr/WDC_data.csv  \n",
            "  inflating: individual_stocks_5yr/individual_stocks_5yr/WEC_data.csv  \n",
            "  inflating: individual_stocks_5yr/individual_stocks_5yr/WFC_data.csv  \n",
            "  inflating: individual_stocks_5yr/individual_stocks_5yr/WHR_data.csv  \n",
            "  inflating: individual_stocks_5yr/individual_stocks_5yr/WLTW_data.csv  \n",
            "  inflating: individual_stocks_5yr/individual_stocks_5yr/WMB_data.csv  \n",
            "  inflating: individual_stocks_5yr/individual_stocks_5yr/WMT_data.csv  \n",
            "  inflating: individual_stocks_5yr/individual_stocks_5yr/WM_data.csv  \n",
            "  inflating: individual_stocks_5yr/individual_stocks_5yr/WRK_data.csv  \n",
            "  inflating: individual_stocks_5yr/individual_stocks_5yr/WU_data.csv  \n",
            "  inflating: individual_stocks_5yr/individual_stocks_5yr/WYNN_data.csv  \n",
            "  inflating: individual_stocks_5yr/individual_stocks_5yr/WYN_data.csv  \n",
            "  inflating: individual_stocks_5yr/individual_stocks_5yr/WY_data.csv  \n",
            "  inflating: individual_stocks_5yr/individual_stocks_5yr/XEC_data.csv  \n",
            "  inflating: individual_stocks_5yr/individual_stocks_5yr/XEL_data.csv  \n",
            "  inflating: individual_stocks_5yr/individual_stocks_5yr/XLNX_data.csv  \n",
            "  inflating: individual_stocks_5yr/individual_stocks_5yr/XL_data.csv  \n",
            "  inflating: individual_stocks_5yr/individual_stocks_5yr/XOM_data.csv  \n",
            "  inflating: individual_stocks_5yr/individual_stocks_5yr/XRAY_data.csv  \n",
            "  inflating: individual_stocks_5yr/individual_stocks_5yr/XRX_data.csv  \n",
            "  inflating: individual_stocks_5yr/individual_stocks_5yr/XYL_data.csv  \n",
            "  inflating: individual_stocks_5yr/individual_stocks_5yr/YUM_data.csv  \n",
            "  inflating: individual_stocks_5yr/individual_stocks_5yr/ZBH_data.csv  \n",
            "  inflating: individual_stocks_5yr/individual_stocks_5yr/ZION_data.csv  \n",
            "  inflating: individual_stocks_5yr/individual_stocks_5yr/ZTS_data.csv  \n",
            "  inflating: merge.sh                \n"
          ],
          "name": "stdout"
        }
      ]
    },
    {
      "cell_type": "code",
      "metadata": {
        "id": "6MLOnsnzeO7D"
      },
      "source": [
        "import pandas as pd\r\n",
        "data = pd.read_csv('/content/individual_stocks_5yr/individual_stocks_5yr/AAL_data.csv')\r\n",
        "data.head()\r\n",
        "    \r\n",
        "x = data['close'].values\r\n",
        "x.shape\r\n",
        "\r\n",
        "X, y = convert2matrix(x, 5)"
      ],
      "execution_count": null,
      "outputs": []
    },
    {
      "cell_type": "code",
      "metadata": {
        "id": "IlcK9DJafJeW"
      },
      "source": [
        "class NNet10(nn.Module):\r\n",
        "    def __init__(self):\r\n",
        "        super(NNet10, self).__init__()\r\n",
        "\r\n",
        "        self.layer1 = nn.Linear(5, 3)\r\n",
        "        self.act1 = nn.Sigmoid()\r\n",
        "        self.layer2 = nn.Linear(3, 1)\r\n",
        "        self.act2 = nn.Sigmoid()\r\n",
        "\r\n",
        "    def forward(self, x):\r\n",
        "        output = self.layer1(x)\r\n",
        "        output = self.act1(output)\r\n",
        "        output = self.layer2(output)\r\n",
        "        output = self.act2(output)\r\n",
        "\r\n",
        "        return output"
      ],
      "execution_count": null,
      "outputs": []
    },
    {
      "cell_type": "code",
      "metadata": {
        "id": "yis6vezafKLR"
      },
      "source": [
        "model10 = NNet10()"
      ],
      "execution_count": null,
      "outputs": []
    },
    {
      "cell_type": "code",
      "metadata": {
        "colab": {
          "base_uri": "https://localhost:8080/"
        },
        "id": "QJupi5J-eIQx",
        "outputId": "93b09ecd-a0e6-43b2-a0b4-000031b89133"
      },
      "source": [
        "num_epochs = 500\r\n",
        "learning_rate = 0.1\r\n",
        "\r\n",
        "criterion = nn.MSELoss()   \r\n",
        "optimizer = torch.optim.SGD(model10.parameters(), lr=learning_rate)\r\n",
        "\r\n",
        "for epoch in range(num_epochs):\r\n",
        "    pred = model10(torch.from_numpy(X).float())\r\n",
        "    loss = criterion(pred, torch.from_numpy(y).float())\r\n",
        "    optimizer.zero_grad()\r\n",
        "    loss.backward()\r\n",
        "\r\n",
        "    with torch.no_grad():\r\n",
        "        optimizer.step()\r\n",
        "    \r\n",
        "\r\n",
        "    if (epoch + 1) % 10 == 0:\r\n",
        "        print('Epoch [{}/{}], Step [{}/{}], Loss {:.4f}'.format(epoch+1, num_epochs, epoch+1, num_epochs, loss.item()))\r\n"
      ],
      "execution_count": null,
      "outputs": [
        {
          "output_type": "stream",
          "text": [
            "/usr/local/lib/python3.7/dist-packages/torch/nn/modules/loss.py:446: UserWarning: Using a target size (torch.Size([1254])) that is different to the input size (torch.Size([1254, 1])). This will likely lead to incorrect results due to broadcasting. Please ensure they have the same size.\n",
            "  return F.mse_loss(input, target, reduction=self.reduction)\n"
          ],
          "name": "stderr"
        },
        {
          "output_type": "stream",
          "text": [
            "Epoch [10/500], Step [10/500], Loss 1523.6597\n",
            "Epoch [20/500], Step [20/500], Loss 1523.6331\n",
            "Epoch [30/500], Step [30/500], Loss 1523.6180\n",
            "Epoch [40/500], Step [40/500], Loss 1523.6086\n",
            "Epoch [50/500], Step [50/500], Loss 1523.6018\n",
            "Epoch [60/500], Step [60/500], Loss 1523.5970\n",
            "Epoch [70/500], Step [70/500], Loss 1523.5933\n",
            "Epoch [80/500], Step [80/500], Loss 1523.5901\n",
            "Epoch [90/500], Step [90/500], Loss 1523.5876\n",
            "Epoch [100/500], Step [100/500], Loss 1523.5856\n",
            "Epoch [110/500], Step [110/500], Loss 1523.5840\n",
            "Epoch [120/500], Step [120/500], Loss 1523.5825\n",
            "Epoch [130/500], Step [130/500], Loss 1523.5811\n",
            "Epoch [140/500], Step [140/500], Loss 1523.5802\n",
            "Epoch [150/500], Step [150/500], Loss 1523.5791\n",
            "Epoch [160/500], Step [160/500], Loss 1523.5782\n",
            "Epoch [170/500], Step [170/500], Loss 1523.5778\n",
            "Epoch [180/500], Step [180/500], Loss 1523.5768\n",
            "Epoch [190/500], Step [190/500], Loss 1523.5763\n",
            "Epoch [200/500], Step [200/500], Loss 1523.5757\n",
            "Epoch [210/500], Step [210/500], Loss 1523.5752\n",
            "Epoch [220/500], Step [220/500], Loss 1523.5748\n",
            "Epoch [230/500], Step [230/500], Loss 1523.5742\n",
            "Epoch [240/500], Step [240/500], Loss 1523.5739\n",
            "Epoch [250/500], Step [250/500], Loss 1523.5737\n",
            "Epoch [260/500], Step [260/500], Loss 1523.5734\n",
            "Epoch [270/500], Step [270/500], Loss 1523.5728\n",
            "Epoch [280/500], Step [280/500], Loss 1523.5726\n",
            "Epoch [290/500], Step [290/500], Loss 1523.5723\n",
            "Epoch [300/500], Step [300/500], Loss 1523.5723\n",
            "Epoch [310/500], Step [310/500], Loss 1523.5719\n",
            "Epoch [320/500], Step [320/500], Loss 1523.5717\n",
            "Epoch [330/500], Step [330/500], Loss 1523.5713\n",
            "Epoch [340/500], Step [340/500], Loss 1523.5712\n",
            "Epoch [350/500], Step [350/500], Loss 1523.5709\n",
            "Epoch [360/500], Step [360/500], Loss 1523.5708\n",
            "Epoch [370/500], Step [370/500], Loss 1523.5708\n",
            "Epoch [380/500], Step [380/500], Loss 1523.5704\n",
            "Epoch [390/500], Step [390/500], Loss 1523.5702\n",
            "Epoch [400/500], Step [400/500], Loss 1523.5702\n",
            "Epoch [410/500], Step [410/500], Loss 1523.5699\n",
            "Epoch [420/500], Step [420/500], Loss 1523.5699\n",
            "Epoch [430/500], Step [430/500], Loss 1523.5699\n",
            "Epoch [440/500], Step [440/500], Loss 1523.5698\n",
            "Epoch [450/500], Step [450/500], Loss 1523.5697\n",
            "Epoch [460/500], Step [460/500], Loss 1523.5693\n",
            "Epoch [470/500], Step [470/500], Loss 1523.5693\n",
            "Epoch [480/500], Step [480/500], Loss 1523.5693\n",
            "Epoch [490/500], Step [490/500], Loss 1523.5690\n",
            "Epoch [500/500], Step [500/500], Loss 1523.5690\n"
          ],
          "name": "stdout"
        }
      ]
    },
    {
      "cell_type": "code",
      "metadata": {
        "id": "C4CMLMoFfxIC"
      },
      "source": [
        ""
      ],
      "execution_count": null,
      "outputs": []
    }
  ]
}