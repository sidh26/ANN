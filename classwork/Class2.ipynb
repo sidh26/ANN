{
  "nbformat": 4,
  "nbformat_minor": 0,
  "metadata": {
    "colab": {
      "name": "Class1.ipynb",
      "provenance": [],
      "authorship_tag": "ABX9TyNUi0C+S0mThRSWl8SKqwSC",
      "include_colab_link": true
    },
    "kernelspec": {
      "name": "python3",
      "display_name": "Python 3"
    }
  },
  "cells": [
    {
      "cell_type": "markdown",
      "metadata": {
        "id": "view-in-github",
        "colab_type": "text"
      },
      "source": [
        "<a href=\"https://colab.research.google.com/github/sidh26/ANN/blob/main/classwork/Class1.ipynb\" target=\"_parent\"><img src=\"https://colab.research.google.com/assets/colab-badge.svg\" alt=\"Open In Colab\"/></a>"
      ]
    },
    {
      "cell_type": "code",
      "metadata": {
        "id": "o-dzNFV8jl1L",
        "colab": {
          "base_uri": "https://localhost:8080/"
        },
        "outputId": "062991f2-a87e-4ab9-f0e0-66bc3dbefdfa"
      },
      "source": [
        "import numpy as np\r\n",
        "import pandas as pd\r\n",
        "import matplotlib.pyplot as plt\r\n",
        "def load_data():\r\n",
        "    URL='https://archive.ics.uci.edu/ml/machine-learning-databases/iris/iris.data'\r\n",
        "    data = pd.read_csv(URL, header = None)\r\n",
        "    print(set(data[4]))\r\n",
        "\r\n",
        "    # make the dataset linearly separable\r\n",
        "    data = data[:100]\r\n",
        "    data[4] = np.where(data.iloc[:, -1]=='Iris-setosa', 0, 1)\r\n",
        "    data = np.asmatrix(data, dtype = 'float64')\r\n",
        "    return data\r\n",
        "data = load_data()"
      ],
      "execution_count": 25,
      "outputs": [
        {
          "output_type": "stream",
          "text": [
            "{'Iris-setosa', 'Iris-virginica', 'Iris-versicolor'}\n"
          ],
          "name": "stdout"
        }
      ]
    },
    {
      "cell_type": "code",
      "metadata": {
        "id": "4xd2AexCkCfH"
      },
      "source": [
        "features = data[:,:-1]\r\n",
        "labels = data[:,-1]"
      ],
      "execution_count": 33,
      "outputs": []
    },
    {
      "cell_type": "code",
      "metadata": {
        "colab": {
          "base_uri": "https://localhost:8080/"
        },
        "id": "yjoPweKVlFWk",
        "outputId": "fb063f45-2fd7-45ac-ce39-0d58e81ba181"
      },
      "source": [
        "w=np.zeros(shape=(1,features.shape[1]+1))\r\n",
        "print(features.shape, w.shape)"
      ],
      "execution_count": 9,
      "outputs": [
        {
          "output_type": "stream",
          "text": [
            "(100, 4) (1, 5)\n"
          ],
          "name": "stdout"
        }
      ]
    },
    {
      "cell_type": "code",
      "metadata": {
        "colab": {
          "base_uri": "https://localhost:8080/"
        },
        "id": "vAjCMPTvtLWs",
        "outputId": "2f47f272-d58b-4d71-896e-cf4933320793"
      },
      "source": [
        "for x, label in zip(features,labels):\r\n",
        "    print(label)"
      ],
      "execution_count": 34,
      "outputs": [
        {
          "output_type": "stream",
          "text": [
            "[[0.]]\n",
            "[[0.]]\n",
            "[[0.]]\n",
            "[[0.]]\n",
            "[[0.]]\n",
            "[[0.]]\n",
            "[[0.]]\n",
            "[[0.]]\n",
            "[[0.]]\n",
            "[[0.]]\n",
            "[[0.]]\n",
            "[[0.]]\n",
            "[[0.]]\n",
            "[[0.]]\n",
            "[[0.]]\n",
            "[[0.]]\n",
            "[[0.]]\n",
            "[[0.]]\n",
            "[[0.]]\n",
            "[[0.]]\n",
            "[[0.]]\n",
            "[[0.]]\n",
            "[[0.]]\n",
            "[[0.]]\n",
            "[[0.]]\n",
            "[[0.]]\n",
            "[[0.]]\n",
            "[[0.]]\n",
            "[[0.]]\n",
            "[[0.]]\n",
            "[[0.]]\n",
            "[[0.]]\n",
            "[[0.]]\n",
            "[[0.]]\n",
            "[[0.]]\n",
            "[[0.]]\n",
            "[[0.]]\n",
            "[[0.]]\n",
            "[[0.]]\n",
            "[[0.]]\n",
            "[[0.]]\n",
            "[[0.]]\n",
            "[[0.]]\n",
            "[[0.]]\n",
            "[[0.]]\n",
            "[[0.]]\n",
            "[[0.]]\n",
            "[[0.]]\n",
            "[[0.]]\n",
            "[[0.]]\n",
            "[[1.]]\n",
            "[[1.]]\n",
            "[[1.]]\n",
            "[[1.]]\n",
            "[[1.]]\n",
            "[[1.]]\n",
            "[[1.]]\n",
            "[[1.]]\n",
            "[[1.]]\n",
            "[[1.]]\n",
            "[[1.]]\n",
            "[[1.]]\n",
            "[[1.]]\n",
            "[[1.]]\n",
            "[[1.]]\n",
            "[[1.]]\n",
            "[[1.]]\n",
            "[[1.]]\n",
            "[[1.]]\n",
            "[[1.]]\n",
            "[[1.]]\n",
            "[[1.]]\n",
            "[[1.]]\n",
            "[[1.]]\n",
            "[[1.]]\n",
            "[[1.]]\n",
            "[[1.]]\n",
            "[[1.]]\n",
            "[[1.]]\n",
            "[[1.]]\n",
            "[[1.]]\n",
            "[[1.]]\n",
            "[[1.]]\n",
            "[[1.]]\n",
            "[[1.]]\n",
            "[[1.]]\n",
            "[[1.]]\n",
            "[[1.]]\n",
            "[[1.]]\n",
            "[[1.]]\n",
            "[[1.]]\n",
            "[[1.]]\n",
            "[[1.]]\n",
            "[[1.]]\n",
            "[[1.]]\n",
            "[[1.]]\n",
            "[[1.]]\n",
            "[[1.]]\n",
            "[[1.]]\n",
            "[[1.]]\n"
          ],
          "name": "stdout"
        }
      ]
    },
    {
      "cell_type": "code",
      "metadata": {
        "id": "k-W-nFTKlU_T"
      },
      "source": [
        "misclassified_e = []\r\n",
        "num_iters = 5\r\n",
        "lr = 0.9\r\n",
        "\r\n",
        "for e in range(num_iters):\r\n",
        "    misclassified=0\r\n",
        "    \r\n",
        "    for x, label in zip(features,labels):\r\n",
        "        x = np.insert(x,0,1)\r\n",
        "        y = np.dot(w,x.transpose())\r\n",
        "        target = 1.0 if (y>0) else 0.0\r\n",
        "        delta = (label.item(0, 0) - target)\r\n",
        "\r\n",
        "        if delta:\r\n",
        "            misclassified += 1\r\n",
        "            w += lr*(delta*x)\r\n",
        "    misclassified_e.append(misclassified)\r\n",
        "    "
      ],
      "execution_count": 10,
      "outputs": []
    },
    {
      "cell_type": "code",
      "metadata": {
        "colab": {
          "base_uri": "https://localhost:8080/",
          "height": 279
        },
        "id": "y3go8G6Xnib5",
        "outputId": "8fdb3bc4-38e6-4272-bb63-18b7f73b085a"
      },
      "source": [
        "epochs = np.arange(1, num_iters+1)\r\n",
        "plt.plot(epochs, misclassified_e)\r\n",
        "plt.xlabel('iterations')\r\n",
        "plt.ylabel('misclassified')\r\n",
        "plt.show()"
      ],
      "execution_count": 14,
      "outputs": [
        {
          "output_type": "display_data",
          "data": {
            "image/png": "[encoded data removed]",
            "text/plain": [
              "<Figure size 432x288 with 1 Axes>"
            ]
          },
          "metadata": {
            "tags": [],
            "needs_background": "light"
          }
        }
      ]
    },
    {
      "cell_type": "code",
      "metadata": {
        "colab": {
          "base_uri": "https://localhost:8080/",
          "height": 346
        },
        "id": "orRqIhBfoThB",
        "outputId": "5c3d5aac-30ef-47df-d226-5db1cf7cfa48"
      },
      "source": [
        "lrs = [0.1, 0.4, 0.8, 1]\r\n",
        "epochs = np.arange(1, num_iters+1)\r\n",
        "for lr in lrs:\r\n",
        "    w = np.zeros(shape=(1, features.shape[1]+1))\r\n",
        "    # print(features.shape, w.shape)\r\n",
        "    misclassified_e = []\r\n",
        "    num_iters = 20\r\n",
        "    # lr = 0.9\r\n",
        "\r\n",
        "    for e in range(num_iters):\r\n",
        "        misclassified=0\r\n",
        "        \r\n",
        "        for x, label in zip(features, labels):\r\n",
        "            x = np.insert(x, 0, 1)\r\n",
        "            y = np.dot(w, x.transpose())\r\n",
        "            target = 1.0 if (y>0) else 0.0\r\n",
        "            delta = (label.item(0, 0) - target)\r\n",
        "\r\n",
        "            if delta:\r\n",
        "                misclassified += 1\r\n",
        "                w += lr*(delta*x)\r\n",
        "        misclassified_e.append(misclassified)\r\n",
        "    print(misclassified_e)\r\n",
        "    plt.plot(epochs, misclassified_e)\r\n",
        "plt.xlabel('iterations')\r\n",
        "plt.ylabel('misclassified')\r\n",
        "plt.show()"
      ],
      "execution_count": 29,
      "outputs": [
        {
          "output_type": "stream",
          "text": [
            "[1, 3, 1, 0, 0, 0, 0, 0, 0, 0, 0, 0, 0, 0, 0, 0, 0, 0, 0, 0]\n",
            "[1, 3, 1, 0, 0, 0, 0, 0, 0, 0, 0, 0, 0, 0, 0, 0, 0, 0, 0, 0]\n",
            "[1, 3, 1, 0, 0, 0, 0, 0, 0, 0, 0, 0, 0, 0, 0, 0, 0, 0, 0, 0]\n",
            "[1, 3, 1, 0, 0, 0, 0, 0, 0, 0, 0, 0, 0, 0, 0, 0, 0, 0, 0, 0]\n"
          ],
          "name": "stdout"
        },
        {
          "output_type": "display_data",
          "data": {
            "image/png": "[encoded data removed]",
            "text/plain": [
              "<Figure size 432x288 with 1 Axes>"
            ]
          },
          "metadata": {
            "tags": [],
            "needs_background": "light"
          }
        }
      ]
    },
    {
      "cell_type": "code",
      "metadata": {
        "colab": {
          "base_uri": "https://localhost:8080/"
        },
        "id": "wgom-CAGpAk6",
        "outputId": "59dd53fa-3d27-426a-d5ca-e66d9a5c7ea1"
      },
      "source": [
        "# test classification dataset\r\n",
        "from sklearn.datasets import make_classification\r\n",
        "# define dataset\r\n",
        "X, Y = make_classification(n_samples=1000, n_features=10, n_informative=10, n_redundant=0, random_state=1)\r\n",
        "# summarize the dataset\r\n",
        "print(X.shape, Y.shape)"
      ],
      "execution_count": 36,
      "outputs": [
        {
          "output_type": "stream",
          "text": [
            "(1000, 10) (1000,)\n"
          ],
          "name": "stdout"
        }
      ]
    },
    {
      "cell_type": "code",
      "metadata": {
        "id": "fl7rImnjs-88"
      },
      "source": [
        "features = X\r\n",
        "labels = Y"
      ],
      "execution_count": 37,
      "outputs": []
    },
    {
      "cell_type": "code",
      "metadata": {
        "colab": {
          "base_uri": "https://localhost:8080/",
          "height": 316
        },
        "id": "S4b-3X2Dsey0",
        "outputId": "2414d8c6-bd8c-432f-b4ed-34dded1f105e"
      },
      "source": [
        "lrs = [0.1, 0.4, 0.8, 1]\r\n",
        "lr = 0.85\r\n",
        "num_iters = 20\r\n",
        "epochs = np.arange(1, num_iters+1)\r\n",
        "w = np.zeros(shape=(1, features.shape[1]+1))\r\n",
        "# print(features.shape, w.shape)\r\n",
        "misclassified_e = []\r\n",
        "for e in range(num_iters):\r\n",
        "    misclassified=0\r\n",
        "    \r\n",
        "    for x, label in zip(features, labels):\r\n",
        "        x = np.insert(x, 0, 1)\r\n",
        "        y = np.dot(w, x.transpose())\r\n",
        "        target = 1.0 if (y>0) else 0.0\r\n",
        "        delta = (label.item(0) - target)\r\n",
        "\r\n",
        "        if delta:\r\n",
        "            misclassified += 1\r\n",
        "            w += lr*(delta*x)\r\n",
        "    misclassified_e.append(misclassified)\r\n",
        "print(misclassified_e)\r\n",
        "plt.plot(epochs, misclassified_e)\r\n",
        "plt.xlabel('iterations')\r\n",
        "plt.ylabel('misclassified')\r\n",
        "plt.show()"
      ],
      "execution_count": 45,
      "outputs": [
        {
          "output_type": "stream",
          "text": [
            "[188, 172, 176, 174, 170, 174, 172, 161, 178, 172, 178, 170, 170, 167, 163, 170, 175, 164, 171, 173]\n"
          ],
          "name": "stdout"
        },
        {
          "output_type": "display_data",
          "data": {
            "image/png": "[encoded data removed]",
            "text/plain": [
              "<Figure size 432x288 with 1 Axes>"
            ]
          },
          "metadata": {
            "tags": [],
            "needs_background": "light"
          }
        }
      ]
    },
    {
      "cell_type": "code",
      "metadata": {
        "colab": {
          "base_uri": "https://localhost:8080/"
        },
        "id": "OShH1kK7tWq1",
        "outputId": "f2b610cd-c86c-4523-eb3f-d6d2ea6bc551"
      },
      "source": [
        "from sklearn.datasets import make_classification\r\n",
        "from sklearn.linear_model import Perceptron\r\n",
        "\r\n",
        "X, Y = make_classification(n_samples=1000, n_features=10, n_informative=10, n_redundant=0, random_state=1)\r\n",
        "\r\n",
        "model = Perceptron()\r\n",
        "\r\n",
        "model.fit(X,Y)\r\n"
      ],
      "execution_count": 48,
      "outputs": [
        {
          "output_type": "execute_result",
          "data": {
            "text/plain": [
              "Perceptron(alpha=0.0001, class_weight=None, early_stopping=False, eta0=1.0,\n",
              "           fit_intercept=True, max_iter=1000, n_iter_no_change=5, n_jobs=None,\n",
              "           penalty=None, random_state=0, shuffle=True, tol=0.001,\n",
              "           validation_fraction=0.1, verbose=0, warm_start=False)"
            ]
          },
          "metadata": {
            "tags": []
          },
          "execution_count": 48
        }
      ]
    },
    {
      "cell_type": "code",
      "metadata": {
        "colab": {
          "base_uri": "https://localhost:8080/"
        },
        "id": "yZAmxi7R1bzc",
        "outputId": "f6736e49-dedf-4d62-e067-9e0dd5f93efb"
      },
      "source": [
        "from sklearn.model_selection import cross_val_score\r\n",
        "scores = cross_val_score(model, X, Y, scoring='accuracy', cv=5, n_jobs=-1)\r\n",
        "print('Mean Accuracy: ', np.mean(scores))"
      ],
      "execution_count": 49,
      "outputs": [
        {
          "output_type": "stream",
          "text": [
            "Mean Accuracy:  0.836\n"
          ],
          "name": "stdout"
        }
      ]
    },
    {
      "cell_type": "code",
      "metadata": {
        "colab": {
          "base_uri": "https://localhost:8080/"
        },
        "id": "QHpI8YvP1yBr",
        "outputId": "561908a4-c5ce-4c12-af8c-66bb3124b9ce"
      },
      "source": [
        "from sklearn.model_selection import RepeatedStratifiedKFold, GridSearchCV\r\n",
        "X, Y = make_classification(n_samples=1000, n_features=10, n_informative=10, n_redundant=0, random_state=1)\r\n",
        "\r\n",
        "model = Perceptron()\r\n",
        "\r\n",
        "model.fit(X,Y)\r\n",
        "\r\n",
        "cv = RepeatedStratifiedKFold(n_splits=10, n_repeats=3, random_state=42)\r\n",
        "\r\n",
        "grid = dict()\r\n",
        "grid['eta0'] = [0.0001, 0.001, 0.01, 0.1, 1]\r\n",
        "grid['max_iter'] = [10, 50, 100, 250]\r\n",
        "\r\n",
        "search = GridSearchCV(model, grid, scoring='accuracy', cv=5, n_jobs=-1)\r\n",
        "results = search.fit(X,Y)\r\n",
        "\r\n",
        "print('Mean Accuracy: %.3f' % results.best_score_)\r\n",
        "print('Config: %s' % results.best_params_)\r\n",
        "\r\n",
        "means = results.cv_results_['mean_test_score']\r\n",
        "params = results.cv_results_['params']\r\n",
        "for mean, param in zip(means, params):\r\n",
        "    print('>%.3f with: %r' %(mean, param))\r\n"
      ],
      "execution_count": 52,
      "outputs": [
        {
          "output_type": "stream",
          "text": [
            "Mean Accuracy: 0.840\n",
            "Config: {'eta0': 0.0001, 'max_iter': 10}\n",
            ">0.840 with: {'eta0': 0.0001, 'max_iter': 10}\n",
            ">0.840 with: {'eta0': 0.0001, 'max_iter': 50}\n",
            ">0.840 with: {'eta0': 0.0001, 'max_iter': 100}\n",
            ">0.840 with: {'eta0': 0.0001, 'max_iter': 250}\n",
            ">0.840 with: {'eta0': 0.001, 'max_iter': 10}\n",
            ">0.840 with: {'eta0': 0.001, 'max_iter': 50}\n",
            ">0.840 with: {'eta0': 0.001, 'max_iter': 100}\n",
            ">0.840 with: {'eta0': 0.001, 'max_iter': 250}\n",
            ">0.835 with: {'eta0': 0.01, 'max_iter': 10}\n",
            ">0.835 with: {'eta0': 0.01, 'max_iter': 50}\n",
            ">0.835 with: {'eta0': 0.01, 'max_iter': 100}\n",
            ">0.835 with: {'eta0': 0.01, 'max_iter': 250}\n",
            ">0.838 with: {'eta0': 0.1, 'max_iter': 10}\n",
            ">0.836 with: {'eta0': 0.1, 'max_iter': 50}\n",
            ">0.836 with: {'eta0': 0.1, 'max_iter': 100}\n",
            ">0.836 with: {'eta0': 0.1, 'max_iter': 250}\n",
            ">0.838 with: {'eta0': 1, 'max_iter': 10}\n",
            ">0.836 with: {'eta0': 1, 'max_iter': 50}\n",
            ">0.836 with: {'eta0': 1, 'max_iter': 100}\n",
            ">0.836 with: {'eta0': 1, 'max_iter': 250}\n"
          ],
          "name": "stdout"
        }
      ]
    },
    {
      "cell_type": "code",
      "metadata": {
        "id": "NjuiUbbB3LwN"
      },
      "source": [
        ""
      ],
      "execution_count": null,
      "outputs": []
    }
  ]
}
