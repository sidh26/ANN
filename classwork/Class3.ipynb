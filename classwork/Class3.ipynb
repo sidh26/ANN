{
  "nbformat": 4,
  "nbformat_minor": 0,
  "metadata": {
    "colab": {
      "name": "Class3.ipynb",
      "provenance": [],
      "authorship_tag": "ABX9TyPjt5B7tvYHa8L0kl7viV8l",
      "include_colab_link": true
    },
    "kernelspec": {
      "name": "python3",
      "display_name": "Python 3"
    }
  },
  "cells": [
    {
      "cell_type": "markdown",
      "metadata": {
        "id": "view-in-github",
        "colab_type": "text"
      },
      "source": [
        "<a href=\"https://colab.research.google.com/github/sidh26/ANN/blob/main/classwork/Class3.ipynb\" target=\"_parent\"><img src=\"https://colab.research.google.com/assets/colab-badge.svg\" alt=\"Open In Colab\"/></a>"
      ]
    },
    {
      "cell_type": "markdown",
      "metadata": {
        "id": "LV4OlVDstnVv"
      },
      "source": [
        "# NN from scratch\r\n",
        "\r\n",
        "- Network Iniialization\r\n",
        "- Feedforward function\r\n",
        "- Cost Function\r\n",
        "- Define Backprop Function\r\n",
        "- Update Weights\r\n",
        "- Create a loop"
      ]
    },
    {
      "cell_type": "markdown",
      "metadata": {
        "id": "edG6LrXgkcxj"
      },
      "source": [
        "## Network Initialization"
      ]
    },
    {
      "cell_type": "code",
      "metadata": {
        "id": "2kCEJXXYtjtz"
      },
      "source": [
        "# Create network with 1 hidden layer\r\n",
        "from numpy import random\r\n",
        "# Initialize the network\r\n",
        "def init_net(n_inputs, n_hidden, n_outputs):\r\n",
        "    net = list()\r\n",
        "    hidden_layer = [{'weights':[random.uniform(-1,1) for i in range(n_inputs+1)]} for j in range(n_hidden)]\r\n",
        "    net.append(hidden_layer)\r\n",
        "\r\n",
        "    out_layer = [{'weights':[random.uniform(-1,1) for i in range(n_hidden+1)]} for j in range(n_outputs)]\r\n",
        "    net.append(out_layer)\r\n",
        "    return net\r\n",
        "\r\n",
        "net1 = init_net(2,3,2)\r\n"
      ],
      "execution_count": 15,
      "outputs": []
    },
    {
      "cell_type": "code",
      "metadata": {
        "colab": {
          "base_uri": "https://localhost:8080/"
        },
        "id": "MoEdAqP4vGyG",
        "outputId": "3a981260-5f74-4505-8442-8e0702763bb8"
      },
      "source": [
        "for layer in net1:\r\n",
        "    print(layer)"
      ],
      "execution_count": 16,
      "outputs": [
        {
          "output_type": "stream",
          "text": [
            "[{'weights': [-0.5783575476990364, -0.17971698093367028]}, {'weights': [-0.7405208969368375, -0.9407177683006807]}, {'weights': [-0.8793310658687501, -0.6006575155772522]}]\n",
            "[{'weights': [-0.6578832572575986, -0.1830411416734119, -0.6236524865020214, 0.9155244507763938]}, {'weights': [-0.5445410001001649, 0.9346998608531034, 0.7428898991353658, -0.9243032796237456]}]\n"
          ],
          "name": "stdout"
        }
      ]
    },
    {
      "cell_type": "code",
      "metadata": {
        "colab": {
          "base_uri": "https://localhost:8080/"
        },
        "id": "8BaC9KuDvyJ8",
        "outputId": "68e11d60-d722-4f72-b608-cb59ae18769d"
      },
      "source": [
        "# Create network with multiple hidden layers\r\n",
        "def init_net2(i_size, hidden, o_size):\r\n",
        "    network = list()\r\n",
        "    for i in range(len(hidden)):\r\n",
        "        if i == 0:\r\n",
        "            hidden_layer = [{'weights':[random.uniform(-1, 1) for i in range(i_size + 1)]} for i in range(hidden[i])]\r\n",
        "            network.append(hidden_layer)\r\n",
        "        else:\r\n",
        "            j = hidden[i-1]\r\n",
        "            hidden_layer = [{'weights':[random.uniform(-1, 1) for i in range(j + 1)]} for i in range(hidden[i])]\r\n",
        "            network.append(hidden_layer)\r\n",
        "    output_layer = [{'weights':[random.uniform(-1, 1) for i in range(hidden[-1] + 1)]} for i in range(o_size)]\r\n",
        "    network.append(output_layer)\r\n",
        "    return network\r\n",
        "\r\n",
        "net1 = init_net2(2,[3,4,5],2)\r\n",
        "for layer in net1:\r\n",
        "    print(layer)"
      ],
      "execution_count": 39,
      "outputs": [
        {
          "output_type": "stream",
          "text": [
            "[{'weights': [-0.8981572877459845, 0.10575723705363682, -0.7296372861109561]}, {'weights': [0.6303751951697623, -0.13548848878952358, 0.5122788623383412]}, {'weights': [0.827221819466663, -0.22913430979267235, 0.4650298448373227]}]\n",
            "[{'weights': [0.09064433447948117, 0.7899442955224112, -0.7156492111946655, -0.5126594722981506]}, {'weights': [0.8315133464233695, -0.9743389159311415, 0.5249925746041875, 0.26307027007920025]}, {'weights': [-0.19295793564941843, 0.6964854793171622, -0.5231300873349318, 0.9887578303507136]}, {'weights': [-0.3449594171461299, -0.20550986711513586, 0.8693958227701555, -0.36852273426194593]}]\n",
            "[{'weights': [-0.3205625257000315, 0.26494761187665894, -0.5787966456046163, 0.754692782781963, -0.6101986264835089]}, {'weights': [-0.9782852995301914, 0.9644088819481613, -0.07386326850541103, -0.17731224236994558, -0.5863746843079221]}, {'weights': [0.06394644389933091, -0.9756108688746974, -0.7249532591590531, 0.5505495806100462, 0.3766110818630959]}, {'weights': [-0.4533326508040303, -0.013666947090136494, 0.3784007822169171, -0.6709367221130564, 0.41062464242179475]}, {'weights': [0.8346922391740839, -0.011684685400192407, 0.004266572731566276, -0.806208295343366, 0.7560353518139742]}]\n",
            "[{'weights': [-0.9113908000195121, -0.36061271998369304, 0.31862410591290447, -0.37106174758424415, 0.1871928575766626, -0.4992278304794604]}, {'weights': [0.9001618659043138, -0.45238193223061063, 0.7640822919930823, -0.24638083718603743, 0.5991681249979888, 0.365206425898428]}]\n"
          ],
          "name": "stdout"
        }
      ]
    },
    {
      "cell_type": "markdown",
      "metadata": {
        "id": "z9i5DcPRkhs5"
      },
      "source": [
        "## Feedforward function"
      ]
    },
    {
      "cell_type": "code",
      "metadata": {
        "id": "msD2qjvh0PxC"
      },
      "source": [
        "import numpy as np\r\n",
        "import math\r\n",
        "\r\n",
        "def sigmoid(x):\r\n",
        "    return 1/(1 + np.exp(-x))\r\n",
        "\r\n",
        "def activation(weights, inputs):\r\n",
        "    #input to the neuron\r\n",
        "    t = inputs+[1]\r\n",
        "    z = np.dot(weights, t)\r\n",
        "    #ouput\r\n",
        "    a = sigmoid(z)\r\n",
        "    return a"
      ],
      "execution_count": 59,
      "outputs": []
    },
    {
      "cell_type": "code",
      "metadata": {
        "colab": {
          "base_uri": "https://localhost:8080/"
        },
        "id": "U4L74s3F2Pn2",
        "outputId": "c2363daa-4302-4561-84db-24be9932cde3"
      },
      "source": [
        "activation(net1[0][1]['weights'], [10,20])"
      ],
      "execution_count": 41,
      "outputs": [
        {
          "output_type": "execute_result",
          "data": {
            "text/plain": [
              "0.9837976037111403"
            ]
          },
          "metadata": {
            "tags": []
          },
          "execution_count": 41
        }
      ]
    },
    {
      "cell_type": "code",
      "metadata": {
        "id": "weA6VIFU4C8A"
      },
      "source": [
        "def feedforward(network, inp):\r\n",
        "    \r\n",
        "    for layer in network:\r\n",
        "        current_out = []\r\n",
        "        for neuron in layer:\r\n",
        "            act = activation(neuron['weights'], inp)\r\n",
        "            neuron['output'] = act\r\n",
        "            current_out.append(neuron['output'])\r\n",
        "        inp = current_out\r\n",
        "    return current_out"
      ],
      "execution_count": 60,
      "outputs": []
    },
    {
      "cell_type": "code",
      "metadata": {
        "id": "GAWKPMAo9GoY"
      },
      "source": [
        "net = init_net2(1,[2,3],2)"
      ],
      "execution_count": 63,
      "outputs": []
    },
    {
      "cell_type": "code",
      "metadata": {
        "colab": {
          "base_uri": "https://localhost:8080/"
        },
        "id": "YZPU084X-ogj",
        "outputId": "b89dd944-a25c-4a66-9dc9-e10baa73f483"
      },
      "source": [
        "for layer in net:\r\n",
        "    print(layer)"
      ],
      "execution_count": 64,
      "outputs": [
        {
          "output_type": "stream",
          "text": [
            "[{'weights': [0.9691827034354259, 0.4744583743194415]}, {'weights': [-0.39616702378121493, 0.10898492602130605]}]\n",
            "[{'weights': [-0.5506858375323, 0.27758413828811546, 0.7067514112902415]}, {'weights': [-0.10585669147352039, 0.3851690113317394, 0.9799119450832505]}, {'weights': [-0.5783048188577649, -0.3658363258133217, 0.8433820693411402]}]\n",
            "[{'weights': [0.909586942839606, -0.891901304750792, 0.24911309607141408, -0.49839320440242685]}, {'weights': [0.5599443034838336, -0.05224447780528152, -0.8549133855397772, -0.8289856934195501]}]\n"
          ],
          "name": "stdout"
        }
      ]
    },
    {
      "cell_type": "code",
      "metadata": {
        "colab": {
          "base_uri": "https://localhost:8080/"
        },
        "id": "uQSvKCQj9SrO",
        "outputId": "5be56311-cf28-453e-c006-59742d69d11a"
      },
      "source": [
        "feedforward(net, [10])"
      ],
      "execution_count": 65,
      "outputs": [
        {
          "output_type": "execute_result",
          "data": {
            "text/plain": [
              "[0.3782067979016905, 0.2600816461265011]"
            ]
          },
          "metadata": {
            "tags": []
          },
          "execution_count": 65
        }
      ]
    },
    {
      "cell_type": "markdown",
      "metadata": {
        "id": "dygQ0HCMkoZU"
      },
      "source": [
        "## Backprop Function"
      ]
    },
    {
      "cell_type": "code",
      "metadata": {
        "id": "n4-0FhpNODRm"
      },
      "source": [
        "# derivative of sigmoid\r\n",
        "def der_sigmoid(x):\r\n",
        "    return x*(1.0-x)"
      ],
      "execution_count": 84,
      "outputs": []
    },
    {
      "cell_type": "code",
      "metadata": {
        "id": "6U7uDKY2-ECi"
      },
      "source": [
        "def backprop(network, target):\r\n",
        "    for i in reversed(range(len(network))):\r\n",
        "        layer = network[i]\r\n",
        "        errors = list()\r\n",
        "        if i == len(network)-1:\r\n",
        "            for j in range(len(layer)):\r\n",
        "                neuron = layer[j]\r\n",
        "                errors.append(target[j] - neuron['output'])\r\n",
        "        else:\r\n",
        "            for j in range(len(layer)):\r\n",
        "                error = 0.0\r\n",
        "                for neuron in network[i+1]:\r\n",
        "                    error += (neuron['weights'][j] * neuron['delta'])\r\n",
        "                errors.append(error)\r\n",
        "        \r\n",
        "        for j in range(len(layer)):\r\n",
        "            neuron = layer[j]\r\n",
        "            neuron['delta'] = errors[j] * der_sigmoid(neuron['output'])\r\n",
        "\r\n",
        "        print(errors)"
      ],
      "execution_count": 82,
      "outputs": []
    },
    {
      "cell_type": "code",
      "metadata": {
        "colab": {
          "base_uri": "https://localhost:8080/"
        },
        "id": "9fugmzjxH4Y_",
        "outputId": "9fbb7187-ef98-43e9-d9b4-57a144551191"
      },
      "source": [
        "net = init_net2(1,[2,3],2)\r\n",
        "feedforward(net, [10])\r\n",
        "backprop(net, [0.5, 0.3])"
      ],
      "execution_count": 79,
      "outputs": [
        {
          "output_type": "stream",
          "text": [
            "[0.12179320209830952, 0.0399183538734989]\n",
            "[1.4695312463234396, -0.9441457825560735, -0.6058002894683632]\n",
            "[-1.2348473478635853, 0.29691682380653317]\n"
          ],
          "name": "stdout"
        }
      ]
    },
    {
      "cell_type": "code",
      "metadata": {
        "colab": {
          "base_uri": "https://localhost:8080/"
        },
        "id": "IkuN0bnjIGR0",
        "outputId": "ee31b619-2d9e-4095-a517-9063a65a6eb8"
      },
      "source": [
        "backprop(net, [0.5, 0.3])"
      ],
      "execution_count": 85,
      "outputs": [
        {
          "output_type": "stream",
          "text": [
            "[0.12179320209830952, 0.0399183538734989]\n",
            "[0.030353500985527707, -0.025946878100930396, 0.0005676942662561748]\n",
            "[-0.0036636037427856586, -2.7612005628361322e-05]\n"
          ],
          "name": "stdout"
        }
      ]
    },
    {
      "cell_type": "markdown",
      "metadata": {
        "id": "tEygDpLIkvX1"
      },
      "source": [
        "## Weight Updation"
      ]
    },
    {
      "cell_type": "code",
      "metadata": {
        "id": "XMnYxSrfM_q2"
      },
      "source": [
        "def weight_update(network, inp, lr):\r\n",
        "    for i in range(len(network)):\r\n",
        "        inputs = inp[:-1]\r\n",
        "        if i != 0: \r\n",
        "            inputs=[neuron['output'] for neuron in network[i-1]]\r\n",
        "        for neuron in network[i]:\r\n",
        "            for j in range(len(inputs)):\r\n",
        "                neuron['weights'][j] += lr*neuron['delta']*inputs[j]\r\n",
        "            neuron['weights'][-1] += lr*neuron['delta']"
      ],
      "execution_count": 93,
      "outputs": []
    },
    {
      "cell_type": "code",
      "metadata": {
        "colab": {
          "base_uri": "https://localhost:8080/"
        },
        "id": "cB7T4rdKSULQ",
        "outputId": "dc1a2109-e6b9-4ad5-9073-88baf7b346d1"
      },
      "source": [
        "for layer in net:\r\n",
        "    print(layer)\r\n",
        "\r\n",
        "weight_update(net, [12,23], 0.1)\r\n",
        "\r\n",
        "print('\\n\\n')\r\n",
        "for layer in net:\r\n",
        "    print(layer)"
      ],
      "execution_count": 96,
      "outputs": [
        {
          "output_type": "stream",
          "text": [
            "[{'weights': [0.9691826823100373, 0.47445836868600444], 'output': 0.9999615566124771, 'delta': -1.4083592399611052e-07}, {'weights': [-0.3961671080658375, 0.10898490354540669], 'output': 0.02078162870983449, 'delta': -5.618974838240062e-07}]\n",
            "[{'weights': [-0.5505350654697037, 0.277587271697599, 0.7069021891492497], 'output': 0.540375742903537, 'delta': 0.007538892950407537}, {'weights': [-0.10596413209978248, 0.3851667784546967, 0.979804500326448], 'output': 0.7072497007707553, 'delta': -0.005372237840125015}, {'weights': [-0.5783020270295891, -0.36583626779235456, 0.8433848612766475], 'output': 0.5640208524572428, 'delta': 0.00013959677536159776}]\n",
            "[{'weights': [0.909896488122566, -0.8914961684884346, 0.24943618606326157, -0.49782037098600285], 'output': 0.3782067979016905, 'delta': 0.028641670821201243}, {'weights': [0.5600273252504775, -0.052135818006266654, -0.8548267310068713, -0.8288320563110487], 'output': 0.2600816461265011, 'delta': 0.007681855425067484}]\n",
            "\n",
            "\n",
            "\n",
            "[{'weights': [0.9691825133069285, 0.47445835460241204], 'output': 0.9999615566124771, 'delta': -1.4083592399611052e-07}, {'weights': [-0.3961677823428181, 0.1089848473556583], 'output': 0.02078162870983449, 'delta': -5.618974838240062e-07}]\n",
            "[{'weights': [-0.5497812051567212, 0.27760293874501685, 0.7076560784442905], 'output': 0.540375742903537, 'delta': 0.007538892950407537}, {'weights': [-0.10650133523109287, 0.3851556140694833, 0.9792672765424354], 'output': 0.7072497007707553, 'delta': -0.005372237840125015}, {'weights': [-0.5782880678887102, -0.3658359776875191, 0.8433988209541836], 'output': 0.5640208524572428, 'delta': 0.00013959677536159776}]\n",
            "[{'weights': [0.9114442145373665, -0.8894704871766477, 0.2510516360224989, -0.49495620390388273], 'output': 0.3782067979016905, 'delta': 0.028641670821201243}, {'weights': [0.5604424340836973, -0.051592519011192335, -0.8543934583423414, -0.8280638707685419], 'output': 0.2600816461265011, 'delta': 0.007681855425067484}]\n"
          ],
          "name": "stdout"
        }
      ]
    },
    {
      "cell_type": "markdown",
      "metadata": {
        "id": "DgU33oeCkzo9"
      },
      "source": [
        "## Training Loop"
      ]
    },
    {
      "cell_type": "code",
      "metadata": {
        "id": "9U1FIJDaTXzT"
      },
      "source": [
        ""
      ],
      "execution_count": null,
      "outputs": []
    }
  ]
}