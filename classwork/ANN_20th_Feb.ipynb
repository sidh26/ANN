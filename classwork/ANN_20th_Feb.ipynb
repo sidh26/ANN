{
  "nbformat": 4,
  "nbformat_minor": 0,
  "metadata": {
    "colab": {
      "name": "ANN 20th Feb.ipynb",
      "provenance": [],
      "authorship_tag": "ABX9TyOnNMQTsy89SHF6pdY2WOfE",
      "include_colab_link": true
    },
    "kernelspec": {
      "name": "python3",
      "display_name": "Python 3"
    },
    "accelerator": "GPU"
  },
  "cells": [
    {
      "cell_type": "markdown",
      "metadata": {
        "id": "view-in-github",
        "colab_type": "text"
      },
      "source": [
        "<a href=\"https://colab.research.google.com/github/sidh26/ANN/blob/main/classwork/ANN_20th_Feb.ipynb\" target=\"_parent\"><img src=\"https://colab.research.google.com/assets/colab-badge.svg\" alt=\"Open In Colab\"/></a>"
      ]
    },
    {
      "cell_type": "code",
      "metadata": {
        "colab": {
          "base_uri": "https://localhost:8080/"
        },
        "id": "mMmUL2tatjeZ",
        "outputId": "ef71897d-9b3b-4c2f-eafa-978a3132b9b9"
      },
      "source": [
        "import torch\r\n",
        "\r\n",
        "# Create empty tensor\r\n",
        "x = torch.empty(2, 5)\r\n",
        "\r\n",
        "type(x), x.size()"
      ],
      "execution_count": 2,
      "outputs": [
        {
          "output_type": "execute_result",
          "data": {
            "text/plain": [
              "(torch.Tensor, torch.Size([2, 5]))"
            ]
          },
          "metadata": {
            "tags": []
          },
          "execution_count": 2
        }
      ]
    },
    {
      "cell_type": "code",
      "metadata": {
        "colab": {
          "base_uri": "https://localhost:8080/"
        },
        "id": "TI6CIieNzYsZ",
        "outputId": "984cf1a0-6545-45c1-e4e6-d69109842b8d"
      },
      "source": [
        "# Fill values\r\n",
        "x.fill_(2.5)\r\n",
        "x, x.mean(), x.std(), x.sum()"
      ],
      "execution_count": 3,
      "outputs": [
        {
          "output_type": "execute_result",
          "data": {
            "text/plain": [
              "(tensor([[2.5000, 2.5000, 2.5000, 2.5000, 2.5000],\n",
              "         [2.5000, 2.5000, 2.5000, 2.5000, 2.5000]]),\n",
              " tensor(2.5000),\n",
              " tensor(0.),\n",
              " tensor(25.))"
            ]
          },
          "metadata": {
            "tags": []
          },
          "execution_count": 3
        }
      ]
    },
    {
      "cell_type": "code",
      "metadata": {
        "colab": {
          "base_uri": "https://localhost:8080/"
        },
        "id": "uEFccbdNzffn",
        "outputId": "d3bdba99-06e7-466f-be2b-6866b152d1d8"
      },
      "source": [
        "# Use tensor value as scalar\r\n",
        "x.mean().item()"
      ],
      "execution_count": 4,
      "outputs": [
        {
          "output_type": "execute_result",
          "data": {
            "text/plain": [
              "2.5"
            ]
          },
          "metadata": {
            "tags": []
          },
          "execution_count": 4
        }
      ]
    },
    {
      "cell_type": "code",
      "metadata": {
        "id": "xvRKl2Arz1Tg"
      },
      "source": [
        "x = torch.tensor([[1, 2, 3], [11, 22, 33]])"
      ],
      "execution_count": 6,
      "outputs": []
    },
    {
      "cell_type": "code",
      "metadata": {
        "colab": {
          "base_uri": "https://localhost:8080/"
        },
        "id": "9Mg3mmpT0E6H",
        "outputId": "f8248a18-046a-433e-ef47-a0c83f760611"
      },
      "source": [
        "# Accessing values in tensor\r\n",
        "x[1, 2]"
      ],
      "execution_count": 7,
      "outputs": [
        {
          "output_type": "execute_result",
          "data": {
            "text/plain": [
              "tensor(33)"
            ]
          },
          "metadata": {
            "tags": []
          },
          "execution_count": 7
        }
      ]
    },
    {
      "cell_type": "code",
      "metadata": {
        "colab": {
          "base_uri": "https://localhost:8080/"
        },
        "id": "Hi_3zMVC0KNT",
        "outputId": "8ba8f67d-a2a4-4298-cf1e-dd100961f189"
      },
      "source": [
        "x = torch.empty(2,4).random_(42)\r\n",
        "x"
      ],
      "execution_count": 11,
      "outputs": [
        {
          "output_type": "execute_result",
          "data": {
            "text/plain": [
              "tensor([[39.,  7., 29., 24.],\n",
              "        [25., 29., 28., 31.]])"
            ]
          },
          "metadata": {
            "tags": []
          },
          "execution_count": 11
        }
      ]
    },
    {
      "cell_type": "code",
      "metadata": {
        "colab": {
          "base_uri": "https://localhost:8080/"
        },
        "id": "19hkjUId0XuA",
        "outputId": "cb790b21-9359-4967-d0fd-e8f505e9e8d7"
      },
      "source": [
        "x[0], x[-1], x[1, 1:3], x[:, 0]"
      ],
      "execution_count": 12,
      "outputs": [
        {
          "output_type": "execute_result",
          "data": {
            "text/plain": [
              "(tensor([39.,  7., 29., 24.]),\n",
              " tensor([25., 29., 28., 31.]),\n",
              " tensor([29., 28.]),\n",
              " tensor([39., 25.]))"
            ]
          },
          "metadata": {
            "tags": []
          },
          "execution_count": 12
        }
      ]
    },
    {
      "cell_type": "code",
      "metadata": {
        "colab": {
          "base_uri": "https://localhost:8080/"
        },
        "id": "ymMYAj-80mz1",
        "outputId": "f7f3c40f-bf8e-4785-f1ae-8b43e9e4b8f2"
      },
      "source": [
        "# Operations on Tensors\r\n",
        "\r\n",
        "x = torch.tensor([10, 20, 30])\r\n",
        "y = torch.tensor([4, 5, 6])\r\n",
        "x+y, x*y, x**2"
      ],
      "execution_count": 13,
      "outputs": [
        {
          "output_type": "execute_result",
          "data": {
            "text/plain": [
              "(tensor([14, 25, 36]), tensor([ 40, 100, 180]), tensor([100, 400, 900]))"
            ]
          },
          "metadata": {
            "tags": []
          },
          "execution_count": 13
        }
      ]
    },
    {
      "cell_type": "code",
      "metadata": {
        "colab": {
          "base_uri": "https://localhost:8080/"
        },
        "id": "7Y-JLuSu1eI4",
        "outputId": "11279281-14d1-4e93-d2a6-3380e9e83de9"
      },
      "source": [
        "# Devices\r\n",
        "\r\n",
        "x = torch.zeros(1, 3)\r\n",
        "y = x.long()\r\n",
        "z = x.to('cuda')\r\n",
        "\r\n",
        "x.dtype, x.device, y.dtype, y.device, z.dtype, z.device"
      ],
      "execution_count": 3,
      "outputs": [
        {
          "output_type": "execute_result",
          "data": {
            "text/plain": [
              "(torch.float32,\n",
              " device(type='cpu'),\n",
              " torch.int64,\n",
              " device(type='cpu'),\n",
              " torch.float32,\n",
              " device(type='cuda', index=0))"
            ]
          },
          "metadata": {
            "tags": []
          },
          "execution_count": 3
        }
      ]
    },
    {
      "cell_type": "code",
      "metadata": {
        "id": "7fTmk7Ef1xK7"
      },
      "source": [
        "# 'Playing around while he takes a call'\r\n",
        "x = torch.tensor([[1, 2], [11, 22]])"
      ],
      "execution_count": 7,
      "outputs": []
    },
    {
      "cell_type": "code",
      "metadata": {
        "colab": {
          "base_uri": "https://localhost:8080/"
        },
        "id": "FN6Jbi2c4HSf",
        "outputId": "9b103dab-c81e-404a-86d3-0ac94d87cb5d"
      },
      "source": [
        "x*x"
      ],
      "execution_count": 8,
      "outputs": [
        {
          "output_type": "execute_result",
          "data": {
            "text/plain": [
              "tensor([[  1,   4],\n",
              "        [121, 484]])"
            ]
          },
          "metadata": {
            "tags": []
          },
          "execution_count": 8
        }
      ]
    },
    {
      "cell_type": "code",
      "metadata": {
        "colab": {
          "base_uri": "https://localhost:8080/"
        },
        "id": "CGrPK56M4Jln",
        "outputId": "18ff361c-409a-4a12-ad1e-fb3c36c58e54"
      },
      "source": [
        "torch.matmul(x, x)"
      ],
      "execution_count": 9,
      "outputs": [
        {
          "output_type": "execute_result",
          "data": {
            "text/plain": [
              "tensor([[ 23,  46],\n",
              "        [253, 506]])"
            ]
          },
          "metadata": {
            "tags": []
          },
          "execution_count": 9
        }
      ]
    },
    {
      "cell_type": "code",
      "metadata": {
        "colab": {
          "base_uri": "https://localhost:8080/"
        },
        "id": "Ezh0XYbn4klA",
        "outputId": "1a758762-3739-4410-cd7f-1edb39ba499e"
      },
      "source": [
        "# Autograd\r\n",
        "# tensor - value, gradient\r\n",
        "\r\n",
        "x = torch.tensor([1.0, 2.0])\r\n",
        "y = torch.tensor([3.0, 4.0])\r\n",
        "z = torch.tensor([5.0, 6.0])\r\n",
        "\r\n",
        "print(x.requires_grad, (x+y).requires_grad)\r\n",
        "\r\n",
        "z.requires_grad = True\r\n",
        "print((x+z).requires_grad)"
      ],
      "execution_count": 12,
      "outputs": [
        {
          "output_type": "stream",
          "text": [
            "False False\n",
            "True\n"
          ],
          "name": "stdout"
        }
      ]
    },
    {
      "cell_type": "code",
      "metadata": {
        "id": "xhQNE1sM5H8c"
      },
      "source": [
        "t = torch.tensor([1.0, 2.0, 4.0]).requires_grad_()\r\n",
        "u = torch.tensor([4.0, 8.0]).requires_grad_()\r\n",
        "\r\n",
        "a = t.pow(2).sum() + u.log().sum()"
      ],
      "execution_count": 13,
      "outputs": []
    },
    {
      "cell_type": "code",
      "metadata": {
        "colab": {
          "base_uri": "https://localhost:8080/"
        },
        "id": "cK7Hb7J35spO",
        "outputId": "b6c21ab0-7a04-4555-fb5b-4303b282f7a7"
      },
      "source": [
        "torch.autograd.grad(a, (t, u)) # Calculate da/dt and da/du"
      ],
      "execution_count": 15,
      "outputs": [
        {
          "output_type": "execute_result",
          "data": {
            "text/plain": [
              "(tensor([2., 4., 8.]), tensor([0.2500, 0.1250]))"
            ]
          },
          "metadata": {
            "tags": []
          },
          "execution_count": 15
        }
      ]
    },
    {
      "cell_type": "code",
      "metadata": {
        "id": "aE7wv2Ub5wuV"
      },
      "source": [
        "# Gradient Accumulation"
      ],
      "execution_count": null,
      "outputs": []
    },
    {
      "cell_type": "code",
      "metadata": {
        "colab": {
          "base_uri": "https://localhost:8080/"
        },
        "id": "F_93PrKW8WIB",
        "outputId": "f3b79d6f-de38-4332-9df1-9c0bf5f951f8"
      },
      "source": [
        "x = torch.tensor([-3.0, 4.0, 5.0]).requires_grad_()\r\n",
        "u = x.pow(3).sum()\r\n",
        "\r\n",
        "u.backward(retain_graph=True) # same as autograd.grad but dont need to specify dervative wrt what\r\n",
        "print(x.grad) # 3x^2\r\n",
        "\r\n",
        "u.backward(retain_graph=True) # retain_graph=True is required if backward() is being called multiple times on the same variable\r\n",
        "print(x.grad) # Because of gradient accumulation, this value changes ie gradients get added\r\n",
        "\r\n",
        "x.grad.zero_() # if you set gradients to 0 then you get the previous values again\r\n",
        "u.backward()\r\n",
        "print(x.grad)"
      ],
      "execution_count": 18,
      "outputs": [
        {
          "output_type": "stream",
          "text": [
            "tensor([27., 48., 75.])\n",
            "tensor([ 54.,  96., 150.])\n",
            "tensor([27., 48., 75.])\n"
          ],
          "name": "stdout"
        }
      ]
    },
    {
      "cell_type": "code",
      "metadata": {
        "colab": {
          "base_uri": "https://localhost:8080/"
        },
        "id": "5ft7zsBL8vIh",
        "outputId": "8e55340d-dbfd-468d-9c97-46004318f633"
      },
      "source": [
        "a = torch.tensor([2.0, 3.0, 5.0]).requires_grad_()\r\n",
        "b = torch.tensor([25.0, 50.0]).requires_grad_()\r\n",
        "c = a.pow(2).sum() + b.log().sum()\r\n",
        "\r\n",
        "c.backward(retain_graph=True)\r\n",
        "print(a.grad)\r\n",
        "print(b.grad)\r\n",
        "print('\\n')\r\n",
        "\r\n",
        "c.backward(retain_graph=True)\r\n",
        "print(a.grad)\r\n",
        "print(b.grad)\r\n",
        "print('\\n')\r\n",
        "\r\n",
        "a.grad.zero_()\r\n",
        "b.grad.zero_()\r\n",
        "c.backward()\r\n",
        "print(a.grad)\r\n",
        "print(b.grad)"
      ],
      "execution_count": 22,
      "outputs": [
        {
          "output_type": "stream",
          "text": [
            "tensor([ 4.,  6., 10.])\n",
            "tensor([0.0400, 0.0200])\n",
            "\n",
            "\n",
            "tensor([ 8., 12., 20.])\n",
            "tensor([0.0800, 0.0400])\n",
            "\n",
            "\n",
            "tensor([ 4.,  6., 10.])\n",
            "tensor([0.0400, 0.0200])\n"
          ],
          "name": "stdout"
        }
      ]
    },
    {
      "cell_type": "code",
      "metadata": {
        "colab": {
          "base_uri": "https://localhost:8080/"
        },
        "id": "4qvWAu0s-iFO",
        "outputId": "adedc756-23dc-4438-9cb5-bc23ea1adb4f"
      },
      "source": [
        "# Weight updation with autograd\r\n",
        "a = torch.tensor(0.5).requires_grad_()\r\n",
        "b = torch.tensor(-0.5).requires_grad_()\r\n",
        "\r\n",
        "eta = 0.1\r\n",
        "\r\n",
        "for k in range(100):\r\n",
        "    l = (a-1)**2 + (b+1)**2 + (a-b)**2\r\n",
        "    ga, gb = torch.autograd.grad(l, (a, b))\r\n",
        "\r\n",
        "    with torch.no_grad(): # typically used when updating weights to not touch the gradients\r\n",
        "        a -= eta * ga\r\n",
        "        b -= eta * gb\r\n",
        "\r\n",
        "print(a.item(), b.item())"
      ],
      "execution_count": 26,
      "outputs": [
        {
          "output_type": "stream",
          "text": [
            "0.3333333432674408 -0.3333333432674408\n"
          ],
          "name": "stdout"
        }
      ]
    },
    {
      "cell_type": "code",
      "metadata": {
        "colab": {
          "base_uri": "https://localhost:8080/"
        },
        "id": "92ipIpkXDBWy",
        "outputId": "54854ccc-13d2-4d79-fbfc-e548c01fada9"
      },
      "source": [
        "# Weight updation with backward\r\n",
        "a = torch.tensor(0.5).requires_grad_()\r\n",
        "b = torch.tensor(-0.5).requires_grad_()\r\n",
        "\r\n",
        "eta = 0.1\r\n",
        "\r\n",
        "for k in range(100):\r\n",
        "    l = (a-1)**2 + (b+1)**2 + (a-b)**2\r\n",
        "    l.backward(retain_graph=True)\r\n",
        "\r\n",
        "    with torch.no_grad():\r\n",
        "        a -= eta * a.grad\r\n",
        "        b -= eta * b.grad\r\n",
        "    a.grad.zero_()\r\n",
        "    b.grad.zero_()\r\n",
        "\r\n",
        "print(a.item(), b.item())"
      ],
      "execution_count": 35,
      "outputs": [
        {
          "output_type": "stream",
          "text": [
            "0.3333333432674408 -0.3333333432674408\n"
          ],
          "name": "stdout"
        }
      ]
    },
    {
      "cell_type": "code",
      "metadata": {
        "id": "IPubdfbuD7OK"
      },
      "source": [
        "# Creating NN with pytorch\r\n",
        "import torch.nn as nn\r\n",
        "\r\n",
        "x = torch.randn(10,3)\r\n",
        "y = torch.randn(10,2)"
      ],
      "execution_count": 59,
      "outputs": []
    },
    {
      "cell_type": "code",
      "metadata": {
        "colab": {
          "base_uri": "https://localhost:8080/"
        },
        "id": "fkXGQUrDLAw2",
        "outputId": "2717209f-e7ad-4e16-879f-eac605d80fb3"
      },
      "source": [
        "# Create fully connected layer\r\n",
        "linear = nn.Linear(3, 2)\r\n",
        "# print('w: ', linear.weight)\r\n",
        "# print('b: ', linear.bias)\r\n",
        "\r\n",
        "for param in linear.parameters():\r\n",
        "    print(param)"
      ],
      "execution_count": 52,
      "outputs": [
        {
          "output_type": "stream",
          "text": [
            "Parameter containing:\n",
            "tensor([[-0.2530,  0.1194, -0.3674],\n",
            "        [-0.0368, -0.3198,  0.2211]], requires_grad=True)\n",
            "Parameter containing:\n",
            "tensor([-0.5329,  0.1109], requires_grad=True)\n"
          ],
          "name": "stdout"
        }
      ]
    },
    {
      "cell_type": "code",
      "metadata": {
        "colab": {
          "base_uri": "https://localhost:8080/"
        },
        "id": "WTHXbNiIMbHv",
        "outputId": "d870bd14-44f4-4ce8-b56f-f09575e674b9"
      },
      "source": [
        "# Build loss function and optimizer\r\n",
        "criterion = nn.MSELoss()   \r\n",
        "optimizer = torch.optim.SGD(linear.parameters(), lr=0.01)\r\n",
        "\r\n",
        "# Forward pass\r\n",
        "pred = linear(x)\r\n",
        "\r\n",
        "# Computing loss\r\n",
        "loss = criterion(pred, y)\r\n",
        "print(loss)\r\n",
        "\r\n",
        "# Backward propagation\r\n",
        "loss.backward()\r\n",
        "\r\n",
        "# Display Gradients\r\n",
        "print(linear.weight.grad)\r\n",
        "print(linear.bias.grad)\r\n",
        "\r\n",
        "# Weight updation\r\n",
        "optimizer.step()\r\n",
        "\r\n",
        "# New weights\r\n",
        "for param in linear.parameters():\r\n",
        "    print(param)"
      ],
      "execution_count": 39,
      "outputs": [
        {
          "output_type": "stream",
          "text": [
            "tensor(1.8051, grad_fn=<MseLossBackward>)\n",
            "tensor([[ 0.2293,  1.3982,  0.1628],\n",
            "        [ 0.1783, -0.2106, -0.2346]])\n",
            "tensor([-0.8522,  0.0899])\n",
            "Parameter containing:\n",
            "tensor([[-0.2684,  0.5277,  0.4786],\n",
            "        [ 0.1238,  0.1591, -0.4026]], requires_grad=True)\n",
            "Parameter containing:\n",
            "tensor([-0.0598,  0.2942], requires_grad=True)\n"
          ],
          "name": "stdout"
        }
      ]
    },
    {
      "cell_type": "code",
      "metadata": {
        "colab": {
          "base_uri": "https://localhost:8080/"
        },
        "id": "mxAG8ZJSPMdy",
        "outputId": "954b43a5-b3d3-48cb-c2cb-1f084dd3e872"
      },
      "source": [
        "# Creating a loop\r\n",
        "criterion = nn.MSELoss()   \r\n",
        "optimizer = torch.optim.SGD(linear.parameters(), lr=0.01)\r\n",
        "\r\n",
        "for k in range(50):\r\n",
        "    pred = linear(x)\r\n",
        "    loss = criterion(pred, y)\r\n",
        "    loss.backward()\r\n",
        "\r\n",
        "    with torch.no_grad():\r\n",
        "        optimizer.step()\r\n",
        "    optimizer.zero_grad()\r\n",
        "\r\n",
        "    if k%10==0:\r\n",
        "        print(\"Weights: \")\r\n",
        "        for param in linear.parameters():\r\n",
        "            print(param)\r\n",
        "        print('Loss: ', loss.item())\r\n",
        "        print('\\n')"
      ],
      "execution_count": 53,
      "outputs": [
        {
          "output_type": "stream",
          "text": [
            "Weights: \n",
            "Parameter containing:\n",
            "tensor([[-0.2522,  0.1200, -0.3658],\n",
            "        [-0.0344, -0.3229,  0.2265]], requires_grad=True)\n",
            "Parameter containing:\n",
            "tensor([-0.5320,  0.1082], requires_grad=True)\n",
            "Loss:  1.1879478693008423\n",
            "\n",
            "\n",
            "Weights: \n",
            "Parameter containing:\n",
            "tensor([[-0.2438,  0.1256, -0.3505],\n",
            "        [-0.0114, -0.3510,  0.2786]], requires_grad=True)\n",
            "Parameter containing:\n",
            "tensor([-0.5235,  0.0832], requires_grad=True)\n",
            "Loss:  1.1365453004837036\n",
            "\n",
            "\n",
            "Weights: \n",
            "Parameter containing:\n",
            "tensor([[-0.2357,  0.1302, -0.3362],\n",
            "        [ 0.0096, -0.3745,  0.3270]], requires_grad=True)\n",
            "Parameter containing:\n",
            "tensor([-0.5156,  0.0623], requires_grad=True)\n",
            "Loss:  1.0945422649383545\n",
            "\n",
            "\n",
            "Weights: \n",
            "Parameter containing:\n",
            "tensor([[-0.2279,  0.1341, -0.3227],\n",
            "        [ 0.0289, -0.3942,  0.3721]], requires_grad=True)\n",
            "Parameter containing:\n",
            "tensor([-0.5084,  0.0448], requires_grad=True)\n",
            "Loss:  1.0599350929260254\n",
            "\n",
            "\n",
            "Weights: \n",
            "Parameter containing:\n",
            "tensor([[-0.2204,  0.1372, -0.3101],\n",
            "        [ 0.0467, -0.4107,  0.4141]], requires_grad=True)\n",
            "Parameter containing:\n",
            "tensor([-0.5016,  0.0302], requires_grad=True)\n",
            "Loss:  1.0311988592147827\n",
            "\n",
            "\n"
          ],
          "name": "stdout"
        }
      ]
    },
    {
      "cell_type": "code",
      "metadata": {
        "id": "iABTDMyxTjnT"
      },
      "source": [
        "# Creating Multi-layer NN with pytorch\r\n",
        "import torch.nn as nn\r\n",
        "\r\n",
        "x = torch.randn(10,3)\r\n",
        "y = torch.randn(10,1)"
      ],
      "execution_count": 69,
      "outputs": []
    },
    {
      "cell_type": "code",
      "metadata": {
        "colab": {
          "base_uri": "https://localhost:8080/"
        },
        "id": "IOfme_PrQQFa",
        "outputId": "24176ce9-93f2-4b26-dbe9-bec58f3a6b64"
      },
      "source": [
        "# Stacking Multiple Layers\r\n",
        "model = nn.Sequential(\r\n",
        "    nn.Linear(3,2),\r\n",
        "    nn.Sigmoid(),\r\n",
        "    nn.Linear(2,1)\r\n",
        ")\r\n",
        "\r\n",
        "for param in model.parameters():\r\n",
        "    print(param)"
      ],
      "execution_count": 70,
      "outputs": [
        {
          "output_type": "stream",
          "text": [
            "Parameter containing:\n",
            "tensor([[ 0.5639, -0.3253,  0.1210],\n",
            "        [-0.3249,  0.4802, -0.4242]], requires_grad=True)\n",
            "Parameter containing:\n",
            "tensor([ 0.5609, -0.0620], requires_grad=True)\n",
            "Parameter containing:\n",
            "tensor([[-0.5743,  0.0510]], requires_grad=True)\n",
            "Parameter containing:\n",
            "tensor([0.3079], requires_grad=True)\n"
          ],
          "name": "stdout"
        }
      ]
    },
    {
      "cell_type": "code",
      "metadata": {
        "colab": {
          "base_uri": "https://localhost:8080/"
        },
        "id": "sOqjMQNDS-mm",
        "outputId": "c8e81ec6-0965-49ac-fd63-b1382a67b54d"
      },
      "source": [
        "# Creating a loop\r\n",
        "criterion = nn.MSELoss()   \r\n",
        "optimizer = torch.optim.SGD(model.parameters(), lr=0.01)\r\n",
        "\r\n",
        "for k in range(100):\r\n",
        "    pred = model(x)\r\n",
        "    loss = criterion(pred, y)\r\n",
        "    loss.backward()\r\n",
        "\r\n",
        "    with torch.no_grad():\r\n",
        "        optimizer.step()\r\n",
        "    optimizer.zero_grad()\r\n",
        "\r\n",
        "    if k%10==0:\r\n",
        "        # print(\"Weights: \")\r\n",
        "        # for param in model.parameters():\r\n",
        "        #     print(param)\r\n",
        "        print('Loss: ', loss.item())\r\n",
        "        # print('\\n')"
      ],
      "execution_count": 71,
      "outputs": [
        {
          "output_type": "stream",
          "text": [
            "Loss:  1.1651668548583984\n",
            "Loss:  1.1225628852844238\n",
            "Loss:  1.1003246307373047\n",
            "Loss:  1.0885766744613647\n",
            "Loss:  1.0822478532791138\n",
            "Loss:  1.0787256956100464\n",
            "Loss:  1.0766608715057373\n",
            "Loss:  1.0753567218780518\n",
            "Loss:  1.0744515657424927\n",
            "Loss:  1.0737582445144653\n"
          ],
          "name": "stdout"
        }
      ]
    },
    {
      "cell_type": "code",
      "metadata": {
        "id": "LaCI3ukDTLoc"
      },
      "source": [
        ""
      ],
      "execution_count": null,
      "outputs": []
    }
  ]
}